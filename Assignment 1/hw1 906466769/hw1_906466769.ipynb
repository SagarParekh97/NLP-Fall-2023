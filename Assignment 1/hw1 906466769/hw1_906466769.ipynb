{
 "cells": [
  {
   "cell_type": "markdown",
   "metadata": {
    "id": "-gqqV2Pgjinc"
   },
   "source": [
    "**Import packages**\n",
    "\n",
    "Import all the necessary packages"
   ]
  },
  {
   "cell_type": "code",
   "execution_count": 1,
   "metadata": {
    "colab": {
     "base_uri": "https://localhost:8080/"
    },
    "id": "QF0Vf8Q2jgfV",
    "outputId": "e67753f1-2dfa-444e-a256-720e037e53cb"
   },
   "outputs": [],
   "source": [
    "import pandas as pd\n",
    "import numpy as np\n",
    "import matplotlib.pyplot as plt\n",
    "import torch\n",
    "from tqdm.notebook import tqdm\n",
    "import seaborn as sns\n",
    "import os\n",
    "import json\n",
    "\n",
    "from transformers import BertTokenizerFast, BertModel\n",
    "import torch\n",
    "import torch.nn as nn\n",
    "import torch.functional as F\n",
    "from torch.optim import Adam\n",
    "from sklearn.metrics import classification_report, confusion_matrix\n",
    "\n",
    "device = 'cuda' if torch.cuda.is_available() else 'cpu'\n",
    "torch.cuda.empty_cache()"
   ]
  },
  {
   "cell_type": "markdown",
   "metadata": {
    "id": "kFBG3HO4iAoQ"
   },
   "source": [
    "**Load the IMDB dataset**\n",
    "\n",
    "Run the following cell to download the IMDB dataset. Alternatively, you can download the dataset using this [link](https://raw.githubusercontent.com/SagarParekh97/NLP-Fall-2023/main/Assignment%201/IMDB%20Dataset.csv)"
   ]
  },
  {
   "cell_type": "code",
   "execution_count": 2,
   "metadata": {
    "colab": {
     "base_uri": "https://localhost:8080/"
    },
    "id": "MqHxM7priINb",
    "outputId": "5e6569b6-fb62-4e8a-f399-043fa1e0f6fb"
   },
   "outputs": [
    {
     "name": "stdout",
     "output_type": "stream",
     "text": [
      "----- Dataset -----\n",
      "                                                  review sentiment\n",
      "0      One of the other reviewers has mentioned that ...  positive\n",
      "1      A wonderful little production. <br /><br />The...  positive\n",
      "2      I thought this was a wonderful way to spend ti...  positive\n",
      "3      Basically there's a family where a little boy ...  negative\n",
      "4      Petter Mattei's \"Love in the Time of Money\" is...  positive\n",
      "...                                                  ...       ...\n",
      "49995  I thought this movie did a down right good job...  positive\n",
      "49996  Bad plot, bad dialogue, bad acting, idiotic di...  negative\n",
      "49997  I am a Catholic taught in parochial elementary...  negative\n",
      "49998  I'm going to have to disagree with the previou...  negative\n",
      "49999  No one expects the Star Trek movies to be high...  negative\n",
      "\n",
      "[50000 rows x 2 columns]\n"
     ]
    }
   ],
   "source": [
    "link_to_dataset = 'https://raw.githubusercontent.com/SagarParekh97/NLP-Fall-2023/main/Assignment%201/IMDB%20Dataset.csv'\n",
    "\n",
    "dataset = pd.read_csv('./IMDB Dataset.csv')\n",
    "print('----- Dataset -----')\n",
    "print(dataset)\n",
    "class_name = ['negative', 'positive']"
   ]
  },
  {
   "cell_type": "markdown",
   "metadata": {
    "id": "C_WuDTtCj3rL"
   },
   "source": [
    "**Divide the dataset into Training, Development, and Test sets**\n",
    "\n",
    "Training - 39723 reviews (80%)\n",
    "\n",
    "Development - 4998 reviews (10%)\n",
    "\n",
    "Test - 4995 reviews (10%)"
   ]
  },
  {
   "cell_type": "code",
   "execution_count": 3,
   "metadata": {
    "colab": {
     "base_uri": "https://localhost:8080/"
    },
    "id": "mNKQc-O_j2Zq",
    "outputId": "9587f583-4523-4a81-e985-449a59ad23ed"
   },
   "outputs": [
    {
     "name": "stdout",
     "output_type": "stream",
     "text": [
      "Length of train: 39723\n",
      "Length of development: 4998\n",
      "Length of test: 4995\n"
     ]
    },
    {
     "name": "stderr",
     "output_type": "stream",
     "text": [
      "/home/sagar-legion/miniconda3/envs/nlp_hw1/lib/python3.9/site-packages/numpy/core/fromnumeric.py:59: FutureWarning: 'DataFrame.swapaxes' is deprecated and will be removed in a future version. Please use 'DataFrame.transpose' instead.\n",
      "  return bound(*args, **kwds)\n"
     ]
    }
   ],
   "source": [
    "# shuffle the dataset\n",
    "dataset = dataset.sample(frac=1)\n",
    "# split dataset according to the required size\n",
    "train, development, test, _ = np.split(dataset, [39723, 39723 + 4998, 39723 + 4998 + 4995])\n",
    "\n",
    "print(f'Length of train: {len(train)}\\nLength of development: {len(development)}\\nLength of test: {len(test)}')"
   ]
  },
  {
   "cell_type": "markdown",
   "metadata": {
    "id": "QagqDm3qmQjq"
   },
   "source": [
    "**Validate the datasets**\n",
    "\n",
    "Check if the test, train, and development sets have a balanced distribution of classes"
   ]
  },
  {
   "cell_type": "code",
   "execution_count": 4,
   "metadata": {
    "colab": {
     "base_uri": "https://localhost:8080/",
     "height": 447
    },
    "id": "Y9cg5GGpmQBv",
    "outputId": "98e62c47-33d4-4380-8568-6ee5863a6de0"
   },
   "outputs": [
    {
     "data": {
      "text/plain": [
       "Text(0.5, 1.0, 'Test')"
      ]
     },
     "execution_count": 4,
     "metadata": {},
     "output_type": "execute_result"
    },
    {
     "data": {
      "image/png": "[encoded data removed]",
      "text/plain": [
       "<Figure size 1500x500 with 3 Axes>"
      ]
     },
     "metadata": {},
     "output_type": "display_data"
    }
   ],
   "source": [
    "_, ax = plt.subplots(1, 3, figsize=(15, 5))\n",
    "\n",
    "ax[0].bar(['positive', 'negative'], [np.sum(train.sentiment == 'positive'), np.sum(train.sentiment == 'negative')])\n",
    "ax[0].set_title('Train')\n",
    "ax[1].bar(['positive', 'negative'], [np.sum(development.sentiment == 'positive'), np.sum(development.sentiment == 'negative')])\n",
    "ax[1].set_title('Development')\n",
    "ax[2].bar(['positive', 'negative'], [np.sum(test.sentiment == 'positive'), np.sum(test.sentiment == 'negative')])\n",
    "ax[2].set_title('Test')"
   ]
  },
  {
   "cell_type": "markdown",
   "metadata": {},
   "source": [
    "We have confirmed that all the sets have approaximately equal number of datapoints for each class label"
   ]
  },
  {
   "cell_type": "markdown",
   "metadata": {},
   "source": [
    "**Choosing the max length for tokens**\n",
    "\n",
    "Load the BERT pre-trained tokenizer."
   ]
  },
  {
   "cell_type": "code",
   "execution_count": 5,
   "metadata": {},
   "outputs": [],
   "source": [
    "MODEL_NAME = 'bert-base-cased'"
   ]
  },
  {
   "cell_type": "markdown",
   "metadata": {},
   "source": [
    "The dataset contains many long reviews with over 1000 tokens. We choose the max_length for the tokens to be 512 and truncate the reviews longer than that."
   ]
  },
  {
   "cell_type": "code",
   "execution_count": 6,
   "metadata": {},
   "outputs": [],
   "source": [
    "MAX_LENGTH = 512\n",
    "tokenizer = BertTokenizerFast.from_pretrained(MODEL_NAME)"
   ]
  },
  {
   "cell_type": "markdown",
   "metadata": {
    "id": "Ue9zYGFIraYw"
   },
   "source": [
    "**Toeknize the text using pre-trained BERT**\n",
    "\n",
    "We change the sentiment labels to binary index values\n",
    "0: negative sentiment\n",
    "1: positive sentiment"
   ]
  },
  {
   "cell_type": "code",
   "execution_count": 7,
   "metadata": {
    "id": "nHVBDiX32uNO"
   },
   "outputs": [],
   "source": [
    "class Dataset(torch.utils.data.Dataset):\n",
    "    def __init__(self, tokenizer, dataset, device):\n",
    "        self.tokenizer = tokenizer\n",
    "        self.reviews = dataset.review.tolist()\n",
    "        self.targets = dataset.sentiment.apply({'negative': 0, 'positive': 1}.get).to_numpy()\n",
    "        self.device = device\n",
    "\n",
    "    def __len__(self):\n",
    "        return len(self.reviews)\n",
    "\n",
    "    def __getitem__(self, index):\n",
    "        output = dict()\n",
    "        tokens = tokenizer(self.reviews[index], max_length=MAX_LENGTH, truncation=True,\n",
    "                           padding='max_length')\n",
    "\n",
    "        output['review'] = self.reviews[index]\n",
    "        output['id'] = torch.tensor(tokens['input_ids'], dtype=torch.long)\n",
    "        output['mask'] = torch.tensor(tokens['attention_mask'], dtype=torch.long)\n",
    "        output['token_type_id'] = torch.tensor(tokens['token_type_ids'], dtype=torch.long)\n",
    "        output['target'] = torch.tensor(self.targets[index], dtype=torch.long)\n",
    "\n",
    "        return output\n",
    "\n",
    "train_dataset = Dataset(tokenizer, train, device)\n",
    "test_dataset = Dataset(tokenizer, test, device)\n",
    "development_dataset = Dataset(tokenizer, development, device)"
   ]
  },
  {
   "cell_type": "markdown",
   "metadata": {
    "id": "nyf1rOK1wYR7"
   },
   "source": [
    "**Sentiment Classifier**\n",
    "\n",
    "This is the model architecture designed for sentiment classification."
   ]
  },
  {
   "cell_type": "code",
   "execution_count": 8,
   "metadata": {
    "id": "WabLLC8Uvr63"
   },
   "outputs": [],
   "source": [
    "class BERTClassifier(nn.Module):\n",
    "    def __init__(self, dropout: float=0.3, output_size: int=2):\n",
    "        super(BERTClassifier, self).__init__()\n",
    "        self.bert = BertModel.from_pretrained(MODEL_NAME)\n",
    "        self.d1 = nn.Dropout(dropout)\n",
    "        self.l1 = nn.Linear(self.bert.config.hidden_size, output_size)\n",
    "\n",
    "        self.loss_fcn = nn.CrossEntropyLoss()\n",
    "\n",
    "    def forward(self, ids, masks, targets):\n",
    "        outputs = self.bert(input_ids=ids, attention_mask=masks)\n",
    "\n",
    "        outputs = self.d1(outputs[1])\n",
    "        outputs = self.l1(outputs)\n",
    "\n",
    "        _, predictions = torch.max(outputs, axis=1)\n",
    "\n",
    "        return predictions, self.loss(outputs, targets)\n",
    "\n",
    "    def loss(self, outputs, targets):\n",
    "        return self.loss_fcn(outputs, targets)\n",
    "        "
   ]
  },
  {
   "cell_type": "markdown",
   "metadata": {
    "id": "1xWQ2SG48UVg"
   },
   "source": [
    "Create functions to train and evaluate the fine-tuned BERT model"
   ]
  },
  {
   "cell_type": "code",
   "execution_count": 9,
   "metadata": {
    "id": "aTktA0enzlN7"
   },
   "outputs": [],
   "source": [
    "def trainer(model, dataset, optimizer, epochs, params_dataLoader, device):\n",
    "    dataset_loader = torch.utils.data.DataLoader(dataset, **params_dataLoader)\n",
    "\n",
    "    training_loss = []\n",
    "    training_accuracy = []\n",
    "    for e in tqdm(range(epochs)):\n",
    "        correct_predictions = 0\n",
    "        for data in tqdm(dataset_loader):\n",
    "            ids = data['id'].to(device)\n",
    "            masks = data['mask'].to(device)\n",
    "            targets = data['target'].to(device)\n",
    "\n",
    "            prediction, loss = model(ids, masks, targets)\n",
    "            training_loss.append(loss.item())\n",
    "            correct_predictions += torch.sum(prediction == targets).cpu().detach().numpy()\n",
    "\n",
    "            optimizer.zero_grad()\n",
    "            loss.backward()\n",
    "            optimizer.step()\n",
    "            \n",
    "        training_accuracy.append((e, correct_predictions / len(dataset)))\n",
    "\n",
    "    # save the trained models\n",
    "    model_checkpoint = dict()\n",
    "    model_checkpoint['model_state_dict'] = model.state_dict()\n",
    "    model_checkpoint['optimizer_state_dict'] = optimizer.state_dict()\n",
    "    model_checkpoint['training_loss'] = training_loss\n",
    "    model_checkpoint['training_accuracy'] = training_accuracy\n",
    "    torch.save(model_checkpoint, f'./save_data/model_checkpoint.pth')\n",
    "    return training_loss, training_accuracy"
   ]
  },
  {
   "cell_type": "code",
   "execution_count": 10,
   "metadata": {},
   "outputs": [],
   "source": [
    "def eval(model, dataset, params_dataLoader, device):\n",
    "    dataset_loader = torch.utils.data.DataLoader(dataset, **params_dataLoader)\n",
    "\n",
    "    y_pred = []\n",
    "    y_true = []\n",
    "    for data in tqdm(dataset_loader):\n",
    "        ids = data['id'].to(device)\n",
    "        masks = data['mask'].to(device)\n",
    "        targets = data['target'].to(device)\n",
    "\n",
    "        y_true.append(targets.cpu().detach().numpy())\n",
    "        with torch.no_grad():\n",
    "            prediction, _ = model(ids, masks, targets)\n",
    "            \n",
    "            y_pred.append(prediction.cpu().detach().numpy().item())\n",
    "        \n",
    "    report = classification_report(y_true, y_pred, target_names=class_name)\n",
    "    conf_mat = confusion_matrix(y_true, y_pred)\n",
    "\n",
    "    return report, conf_mat"
   ]
  },
  {
   "cell_type": "markdown",
   "metadata": {},
   "source": [
    "The BERT authors have some recommendations for fine-tuning:\n",
    "\n",
    "    Batch size: 16, 32\n",
    "    Learning rate (Adam): 5e-5, 3e-5, 2e-5\n",
    "    Number of epochs: 2, 3, 4\n",
    "\n",
    "We use these suggestions to guide our hyperparameters values; we initialize the model and optimizer"
   ]
  },
  {
   "cell_type": "code",
   "execution_count": 11,
   "metadata": {
    "colab": {
     "base_uri": "https://localhost:8080/",
     "height": 49,
     "referenced_widgets": [
      "e616c581e4b048eeb1f53f97326083f0",
      "c00d6de356184a67835498d8a9258d0c",
      "afe98686b1434d70a8eb0b24a80e45b0",
      "2a49bf07937c499592a8110ddf46ced5",
      "c294ab2481164f00920050205fb006cb",
      "16d8cb003a2344398e01ffff5e405926",
      "a551789a56b44cec80762825108183dc",
      "fe25de280a7b483ab173e458f3028a9d",
      "b11520232eeb425bb609642be1fa7ec9",
      "ab8f03df52d240f0bae974f12496305f",
      "da436766db24452d862459f9ca39e351"
     ]
    },
    "id": "4ppHI3Wot0V4",
    "outputId": "a90da281-1652-41f9-b3a8-3dca74d786d4"
   },
   "outputs": [],
   "source": [
    "LR = 2e-5\n",
    "TRAINING_BATCH_SIZE = 16\n",
    "TEST_BATCH_SIZE = 1\n",
    "EPOCHS = 4\n",
    "DROPOUT = 0.3\n",
    "N_CLASSES = 2\n",
    "NUM_WORKERS = 4\n",
    "\n",
    "params_dataLoader = {'batch_size': TRAINING_BATCH_SIZE,\n",
    "                     'shuffle': True,\n",
    "                     'num_workers': NUM_WORKERS}\n",
    "\n",
    "model = BERTClassifier(dropout=DROPOUT, output_size=N_CLASSES).to(device)\n",
    "optimizer = Adam(model.parameters(), lr=LR)"
   ]
  },
  {
   "cell_type": "markdown",
   "metadata": {
    "id": "1KEi6sOs5g-e"
   },
   "source": [
    "**Train**\n",
    "\n",
    " If you want to load a previously trained model, press y"
   ]
  },
  {
   "cell_type": "code",
   "execution_count": 12,
   "metadata": {},
   "outputs": [
    {
     "data": {
      "application/vnd.jupyter.widget-view+json": {
       "model_id": "fbdaa2e7d832417cad2cc0a1c50d5aa5",
       "version_major": 2,
       "version_minor": 0
      },
      "text/plain": [
       "  0%|          | 0/4 [00:00<?, ?it/s]"
      ]
     },
     "metadata": {},
     "output_type": "display_data"
    },
    {
     "data": {
      "application/vnd.jupyter.widget-view+json": {
       "model_id": "49568aaa019842daa9c512599b5eafcb",
       "version_major": 2,
       "version_minor": 0
      },
      "text/plain": [
       "  0%|          | 0/2483 [00:00<?, ?it/s]"
      ]
     },
     "metadata": {},
     "output_type": "display_data"
    },
    {
     "ename": "KeyboardInterrupt",
     "evalue": "",
     "output_type": "error",
     "traceback": [
      "\u001b[0;31m---------------------------------------------------------------------------\u001b[0m",
      "\u001b[0;31mKeyboardInterrupt\u001b[0m                         Traceback (most recent call last)",
      "\u001b[1;32m/home/sagar-legion/Projects/NLP-Fall-2023/Assignment 1/hw1 906466769/hw1_906466769.ipynb Cell 24\u001b[0m line \u001b[0;36m1\n\u001b[1;32m     <a href='vscode-notebook-cell://wsl%2Bubuntu-20.04/home/sagar-legion/Projects/NLP-Fall-2023/Assignment%201/hw1%20906466769/hw1_906466769.ipynb#X32sdnNjb2RlLXJlbW90ZQ%3D%3D?line=14'>15</a>\u001b[0m \u001b[39mif\u001b[39;00m \u001b[39mnot\u001b[39;00m os\u001b[39m.\u001b[39mpath\u001b[39m.\u001b[39mexists(\u001b[39m'\u001b[39m\u001b[39msave_data/\u001b[39m\u001b[39m'\u001b[39m):\n\u001b[1;32m     <a href='vscode-notebook-cell://wsl%2Bubuntu-20.04/home/sagar-legion/Projects/NLP-Fall-2023/Assignment%201/hw1%20906466769/hw1_906466769.ipynb#X32sdnNjb2RlLXJlbW90ZQ%3D%3D?line=15'>16</a>\u001b[0m     os\u001b[39m.\u001b[39mmakedirs(\u001b[39m'\u001b[39m\u001b[39msave_data\u001b[39m\u001b[39m'\u001b[39m)\n\u001b[0;32m---> <a href='vscode-notebook-cell://wsl%2Bubuntu-20.04/home/sagar-legion/Projects/NLP-Fall-2023/Assignment%201/hw1%20906466769/hw1_906466769.ipynb#X32sdnNjb2RlLXJlbW90ZQ%3D%3D?line=16'>17</a>\u001b[0m training_loss, training_accuracy \u001b[39m=\u001b[39m trainer(model, train_dataset, optimizer, EPOCHS, params_dataLoader, device)\n\u001b[1;32m     <a href='vscode-notebook-cell://wsl%2Bubuntu-20.04/home/sagar-legion/Projects/NLP-Fall-2023/Assignment%201/hw1%20906466769/hw1_906466769.ipynb#X32sdnNjb2RlLXJlbW90ZQ%3D%3D?line=18'>19</a>\u001b[0m fname \u001b[39m=\u001b[39m os\u001b[39m.\u001b[39mpath\u001b[39m.\u001b[39mjoin(\u001b[39mf\u001b[39m\u001b[39m'\u001b[39m\u001b[39m./save_data/training_loss.json\u001b[39m\u001b[39m'\u001b[39m)\n\u001b[1;32m     <a href='vscode-notebook-cell://wsl%2Bubuntu-20.04/home/sagar-legion/Projects/NLP-Fall-2023/Assignment%201/hw1%20906466769/hw1_906466769.ipynb#X32sdnNjb2RlLXJlbW90ZQ%3D%3D?line=19'>20</a>\u001b[0m \u001b[39mwith\u001b[39;00m \u001b[39mopen\u001b[39m(fname, \u001b[39m'\u001b[39m\u001b[39mw\u001b[39m\u001b[39m'\u001b[39m) \u001b[39mas\u001b[39;00m f:\n",
      "\u001b[1;32m/home/sagar-legion/Projects/NLP-Fall-2023/Assignment 1/hw1 906466769/hw1_906466769.ipynb Cell 24\u001b[0m line \u001b[0;36m1\n\u001b[1;32m     <a href='vscode-notebook-cell://wsl%2Bubuntu-20.04/home/sagar-legion/Projects/NLP-Fall-2023/Assignment%201/hw1%20906466769/hw1_906466769.ipynb#X32sdnNjb2RlLXJlbW90ZQ%3D%3D?line=10'>11</a>\u001b[0m targets \u001b[39m=\u001b[39m data[\u001b[39m'\u001b[39m\u001b[39mtarget\u001b[39m\u001b[39m'\u001b[39m]\u001b[39m.\u001b[39mto(device)\n\u001b[1;32m     <a href='vscode-notebook-cell://wsl%2Bubuntu-20.04/home/sagar-legion/Projects/NLP-Fall-2023/Assignment%201/hw1%20906466769/hw1_906466769.ipynb#X32sdnNjb2RlLXJlbW90ZQ%3D%3D?line=12'>13</a>\u001b[0m prediction, loss \u001b[39m=\u001b[39m model(ids, masks, targets)\n\u001b[0;32m---> <a href='vscode-notebook-cell://wsl%2Bubuntu-20.04/home/sagar-legion/Projects/NLP-Fall-2023/Assignment%201/hw1%20906466769/hw1_906466769.ipynb#X32sdnNjb2RlLXJlbW90ZQ%3D%3D?line=13'>14</a>\u001b[0m training_loss\u001b[39m.\u001b[39mappend(loss\u001b[39m.\u001b[39;49mitem())\n\u001b[1;32m     <a href='vscode-notebook-cell://wsl%2Bubuntu-20.04/home/sagar-legion/Projects/NLP-Fall-2023/Assignment%201/hw1%20906466769/hw1_906466769.ipynb#X32sdnNjb2RlLXJlbW90ZQ%3D%3D?line=14'>15</a>\u001b[0m correct_predictions \u001b[39m+\u001b[39m\u001b[39m=\u001b[39m torch\u001b[39m.\u001b[39msum(prediction \u001b[39m==\u001b[39m targets)\u001b[39m.\u001b[39mcpu()\u001b[39m.\u001b[39mdetach()\u001b[39m.\u001b[39mnumpy()\n\u001b[1;32m     <a href='vscode-notebook-cell://wsl%2Bubuntu-20.04/home/sagar-legion/Projects/NLP-Fall-2023/Assignment%201/hw1%20906466769/hw1_906466769.ipynb#X32sdnNjb2RlLXJlbW90ZQ%3D%3D?line=16'>17</a>\u001b[0m optimizer\u001b[39m.\u001b[39mzero_grad()\n",
      "\u001b[0;31mKeyboardInterrupt\u001b[0m: "
     ]
    }
   ],
   "source": [
    "load = all([os.path.exists(f'save_data/{f}') for f in ['model_checkpoint.pth', 'training_loss.json', 'training_accuracy.json']])\n",
    "\n",
    "if load:\n",
    "    model_dir = 'save_data/model_checkpoint.pth'\n",
    "    model_checkpoint = torch.load(model_dir)\n",
    "    model.load_state_dict(model_checkpoint['model_state_dict'])\n",
    "\n",
    "    fname = os.path.join(f'./save_data/training_loss.json')\n",
    "    with open(fname, 'r') as f:\n",
    "        training_loss = json.load(f)\n",
    "    fname = os.path.join(f'./save_data/training_accuracy.json')\n",
    "    with open(fname, 'r') as f:\n",
    "        training_accuracy = json.load(f)\n",
    "else:\n",
    "    if not os.path.exists('save_data/'):\n",
    "        os.makedirs('save_data')\n",
    "    training_loss, training_accuracy = trainer(model, train_dataset, optimizer, EPOCHS, params_dataLoader, device)\n",
    "\n",
    "    fname = os.path.join(f'./save_data/training_loss.json')\n",
    "    with open(fname, 'w') as f:\n",
    "        json.dump(training_loss, f)\n",
    "    fname = os.path.join(f'./save_data/training_accuracy.json')\n",
    "    with open(fname, 'w') as f:\n",
    "        json.dump(training_accuracy, f)\n",
    "\n",
    "_, ax = plt.subplots(1, 2, figsize=(10, 5))\n",
    "ax[0].plot(training_loss, marker='.')\n",
    "ax[0].set_title('Training Loss')\n",
    "ax[1].plot(*zip(*training_accuracy))\n",
    "ax[1].set_title('Training Accuracy')"
   ]
  },
  {
   "cell_type": "markdown",
   "metadata": {},
   "source": [
    "We can see that as the training loss converges the training accuracy reached close to 1"
   ]
  },
  {
   "cell_type": "markdown",
   "metadata": {
    "id": "65XyBl2j5dml"
   },
   "source": [
    "**Evaluate**\n",
    "\n",
    "Now, we evaluate the performance of the fine-tuned BERT model on the train, test, and development sets."
   ]
  },
  {
   "cell_type": "markdown",
   "metadata": {},
   "source": [
    "Set the parameters for the eval dataloader"
   ]
  },
  {
   "cell_type": "code",
   "execution_count": null,
   "metadata": {
    "id": "8l3WGZn35dJV"
   },
   "outputs": [],
   "source": [
    "params_dataLoader_eval = {'batch_size': TEST_BATCH_SIZE,\n",
    "                          'shuffle': True,\n",
    "                          'num_workers': NUM_WORKERS}"
   ]
  },
  {
   "cell_type": "markdown",
   "metadata": {},
   "source": [
    "Train set"
   ]
  },
  {
   "cell_type": "code",
   "execution_count": null,
   "metadata": {},
   "outputs": [],
   "source": [
    "# train_report, train_conf_mat = eval(model, train_dataset, params_dataLoader_eval, device)\n",
    "\n",
    "# _, ax = plt.subplots(1, 1, figsize=(7, 7))\n",
    "# ax.matshow(train_conf_mat, cmap=plt.cm.Blues, alpha=0.3)\n",
    "# for i in range(train_conf_mat.shape[0]):\n",
    "#     for j in range(train_conf_mat.shape[1]):\n",
    "#         ax.text(x=j, y=i, s=train_conf_mat[i, j], va='center', ha='center', size='xx-large')\n",
    "# ax.set_xlabel('Predictions')\n",
    "# ax.set_ylabel('Actuals')\n",
    "# ax.set_xticks(range(len(class_name)))\n",
    "# ax.set_yticks(range(len(class_name)))\n",
    "# ax.set_xticklabels(class_name)\n",
    "# ax.set_yticklabels(class_name)\n",
    "# ax.set_title('Train Confusion Matrix')\n",
    "\n",
    "# print('F-Score')\n",
    "# print(train_report)"
   ]
  },
  {
   "cell_type": "markdown",
   "metadata": {},
   "source": [
    "Test set"
   ]
  },
  {
   "cell_type": "code",
   "execution_count": null,
   "metadata": {
    "id": "ysZAjV073yI_"
   },
   "outputs": [
    {
     "data": {
      "application/vnd.jupyter.widget-view+json": {
       "model_id": "1510785637184b92963a5932490e89f1",
       "version_major": 2,
       "version_minor": 0
      },
      "text/plain": [
       "  0%|          | 0/4995 [00:00<?, ?it/s]"
      ]
     },
     "metadata": {},
     "output_type": "display_data"
    },
    {
     "name": "stdout",
     "output_type": "stream",
     "text": [
      "F-Score\n",
      "              precision    recall  f1-score   support\n",
      "\n",
      "    negative       0.98      0.99      0.98      2555\n",
      "    positive       0.98      0.98      0.98      2440\n",
      "\n",
      "    accuracy                           0.98      4995\n",
      "   macro avg       0.98      0.98      0.98      4995\n",
      "weighted avg       0.98      0.98      0.98      4995\n",
      "\n"
     ]
    },
    {
     "data": {
      "image/png": "[encoded data removed]",
      "text/plain": [
       "<Figure size 700x700 with 1 Axes>"
      ]
     },
     "metadata": {},
     "output_type": "display_data"
    }
   ],
   "source": [
    "test_report, test_conf_mat = eval(model, test_dataset, params_dataLoader_eval, device)\n",
    "_, ax = plt.subplots(1, 1, figsize=(7, 7))\n",
    "ax.matshow(test_conf_mat, cmap=plt.cm.Blues, alpha=0.3)\n",
    "for i in range(test_conf_mat.shape[0]):\n",
    "    for j in range(test_conf_mat.shape[1]):\n",
    "        ax.text(x=j, y=i, s=test_conf_mat[i, j], va='center', ha='center', size='xx-large')\n",
    "ax.set_xlabel('Predictions')\n",
    "ax.set_ylabel('Actuals')\n",
    "ax.set_xticks(range(len(class_name)))\n",
    "ax.set_yticks(range(len(class_name)))\n",
    "ax.set_xticklabels(class_name)\n",
    "ax.set_yticklabels(class_name)\n",
    "ax.set_title('Test Confusion Matrix')\n",
    "\n",
    "print('F-Score')\n",
    "print(test_report)"
   ]
  },
  {
   "cell_type": "markdown",
   "metadata": {},
   "source": [
    "Development set"
   ]
  },
  {
   "cell_type": "code",
   "execution_count": null,
   "metadata": {},
   "outputs": [
    {
     "data": {
      "application/vnd.jupyter.widget-view+json": {
       "model_id": "1d9edb4bc039429ea1377593d386a242",
       "version_major": 2,
       "version_minor": 0
      },
      "text/plain": [
       "  0%|          | 0/4998 [00:00<?, ?it/s]"
      ]
     },
     "metadata": {},
     "output_type": "display_data"
    },
    {
     "name": "stdout",
     "output_type": "stream",
     "text": [
      "F-Score\n",
      "              precision    recall  f1-score   support\n",
      "\n",
      "    negative       0.99      0.99      0.99      2511\n",
      "    positive       0.99      0.99      0.99      2487\n",
      "\n",
      "    accuracy                           0.99      4998\n",
      "   macro avg       0.99      0.99      0.99      4998\n",
      "weighted avg       0.99      0.99      0.99      4998\n",
      "\n"
     ]
    },
    {
     "data": {
      "image/png": "[encoded data removed]",
      "text/plain": [
       "<Figure size 700x700 with 1 Axes>"
      ]
     },
     "metadata": {},
     "output_type": "display_data"
    }
   ],
   "source": [
    "devel_report, devel_conf_mat = eval(model, development_dataset, params_dataLoader_eval, device)\n",
    "_, ax = plt.subplots(1, 1, figsize=(7, 7))\n",
    "ax.matshow(devel_conf_mat, cmap=plt.cm.Blues, alpha=0.3)\n",
    "for i in range(devel_conf_mat.shape[0]):\n",
    "    for j in range(devel_conf_mat.shape[1]):\n",
    "        ax.text(x=j, y=i, s=devel_conf_mat[i, j], va='center', ha='center', size='xx-large')\n",
    "ax.set_xlabel('Predictions')\n",
    "ax.set_ylabel('Actuals')\n",
    "ax.set_xticks(range(len(class_name)))\n",
    "ax.set_yticks(range(len(class_name)))\n",
    "ax.set_xticklabels(class_name)\n",
    "ax.set_yticklabels(class_name)\n",
    "ax.set_title('Development Confusion Matrix')\n",
    "\n",
    "print('F-Score')\n",
    "print(devel_report)"
   ]
  },
  {
   "cell_type": "markdown",
   "metadata": {},
   "source": [
    "**Save a pdf output of the notebook**"
   ]
  },
  {
   "cell_type": "code",
   "execution_count": null,
   "metadata": {},
   "outputs": [
    {
     "name": "stderr",
     "output_type": "stream",
     "text": [
      "[NbConvertApp] Converting notebook hw1_906466769.ipynb to pdf\n",
      "[NbConvertApp] Support files will be in hw1_906466769_files/\n",
      "[NbConvertApp] Making directory ./hw1_906466769_files\n",
      "[NbConvertApp] Writing 60611 bytes to notebook.tex\n",
      "[NbConvertApp] Building PDF\n",
      "[NbConvertApp] Running xelatex 3 times: ['xelatex', 'notebook.tex', '-quiet']\n",
      "[NbConvertApp] Running bibtex 1 time: ['bibtex', 'notebook']\n",
      "[NbConvertApp] WARNING | bibtex had problems, most likely because there were no citations\n",
      "[NbConvertApp] PDF successfully created\n",
      "[NbConvertApp] Writing 161430 bytes to hw1_906466769.pdf\n"
     ]
    }
   ],
   "source": [
    "%%capture\n",
    "import subprocess\n",
    "\n",
    "subprocess.call('jupyter nbconvert hw1_906466769.ipynb --to pdf --output hw1_906466769.pdf', shell=True)\n"
   ]
  },
  {
   "cell_type": "code",
   "execution_count": null,
   "metadata": {},
   "outputs": [],
   "source": []
  }
 ],
 "metadata": {
  "accelerator": "GPU",
  "colab": {
   "cell_execution_strategy": "setup",
   "gpuType": "T4",
   "provenance": []
  },
  "kernelspec": {
   "display_name": "Python 3 (ipykernel)",
   "language": "python",
   "name": "python3"
  },
  "language_info": {
   "codemirror_mode": {
    "name": "ipython",
    "version": 3
   },
   "file_extension": ".py",
   "mimetype": "text/x-python",
   "name": "python",
   "nbconvert_exporter": "python",
   "pygments_lexer": "ipython3",
   "version": "3.9.0"
  },
  "widgets": {
   "application/vnd.jupyter.widget-state+json": {
    "026b5f49480443cfb00a440ae580c93a": {
     "model_module": "@jupyter-widgets/base",
     "model_module_version": "1.2.0",
     "model_name": "LayoutModel",
     "state": {
      "_model_module": "@jupyter-widgets/base",
      "_model_module_version": "1.2.0",
      "_model_name": "LayoutModel",
      "_view_count": null,
      "_view_module": "@jupyter-widgets/base",
      "_view_module_version": "1.2.0",
      "_view_name": "LayoutView",
      "align_content": null,
      "align_items": null,
      "align_self": null,
      "border": null,
      "bottom": null,
      "display": null,
      "flex": null,
      "flex_flow": null,
      "grid_area": null,
      "grid_auto_columns": null,
      "grid_auto_flow": null,
      "grid_auto_rows": null,
      "grid_column": null,
      "grid_gap": null,
      "grid_row": null,
      "grid_template_areas": null,
      "grid_template_columns": null,
      "grid_template_rows": null,
      "height": null,
      "justify_content": null,
      "justify_items": null,
      "left": null,
      "margin": null,
      "max_height": null,
      "max_width": null,
      "min_height": null,
      "min_width": null,
      "object_fit": null,
      "object_position": null,
      "order": null,
      "overflow": null,
      "overflow_x": null,
      "overflow_y": null,
      "padding": null,
      "right": null,
      "top": null,
      "visibility": null,
      "width": null
     }
    },
    "09338934123a4b70b20c1875c0fddf22": {
     "model_module": "@jupyter-widgets/controls",
     "model_module_version": "1.5.0",
     "model_name": "HTMLModel",
     "state": {
      "_dom_classes": [],
      "_model_module": "@jupyter-widgets/controls",
      "_model_module_version": "1.5.0",
      "_model_name": "HTMLModel",
      "_view_count": null,
      "_view_module": "@jupyter-widgets/controls",
      "_view_module_version": "1.5.0",
      "_view_name": "HTMLView",
      "description": "",
      "description_tooltip": null,
      "layout": "IPY_MODEL_5a69ddfb010a425c9e5f3d5743899345",
      "placeholder": "​",
      "style": "IPY_MODEL_fd673edc3dcd49b98d002bfffeaf002a",
      "value": "Downloading (…)solve/main/vocab.txt: 100%"
     }
    },
    "16b89bcaeed744a09a2a24012f1bc29c": {
     "model_module": "@jupyter-widgets/controls",
     "model_module_version": "1.5.0",
     "model_name": "HBoxModel",
     "state": {
      "_dom_classes": [],
      "_model_module": "@jupyter-widgets/controls",
      "_model_module_version": "1.5.0",
      "_model_name": "HBoxModel",
      "_view_count": null,
      "_view_module": "@jupyter-widgets/controls",
      "_view_module_version": "1.5.0",
      "_view_name": "HBoxView",
      "box_style": "",
      "children": [
       "IPY_MODEL_e0e59adcba274a7087cc9844bbc60a87",
       "IPY_MODEL_f579ce7c07b44146bb88eaf11c83b016",
       "IPY_MODEL_f3464b6eef214e42b68e67e05c039202"
      ],
      "layout": "IPY_MODEL_4fd185b6d876487c8530601921c81cb4"
     }
    },
    "16d8cb003a2344398e01ffff5e405926": {
     "model_module": "@jupyter-widgets/base",
     "model_module_version": "1.2.0",
     "model_name": "LayoutModel",
     "state": {
      "_model_module": "@jupyter-widgets/base",
      "_model_module_version": "1.2.0",
      "_model_name": "LayoutModel",
      "_view_count": null,
      "_view_module": "@jupyter-widgets/base",
      "_view_module_version": "1.2.0",
      "_view_name": "LayoutView",
      "align_content": null,
      "align_items": null,
      "align_self": null,
      "border": null,
      "bottom": null,
      "display": null,
      "flex": null,
      "flex_flow": null,
      "grid_area": null,
      "grid_auto_columns": null,
      "grid_auto_flow": null,
      "grid_auto_rows": null,
      "grid_column": null,
      "grid_gap": null,
      "grid_row": null,
      "grid_template_areas": null,
      "grid_template_columns": null,
      "grid_template_rows": null,
      "height": null,
      "justify_content": null,
      "justify_items": null,
      "left": null,
      "margin": null,
      "max_height": null,
      "max_width": null,
      "min_height": null,
      "min_width": null,
      "object_fit": null,
      "object_position": null,
      "order": null,
      "overflow": null,
      "overflow_x": null,
      "overflow_y": null,
      "padding": null,
      "right": null,
      "top": null,
      "visibility": null,
      "width": null
     }
    },
    "1e1d1c6b844f4b409475c0a92bec541d": {
     "model_module": "@jupyter-widgets/controls",
     "model_module_version": "1.5.0",
     "model_name": "HTMLModel",
     "state": {
      "_dom_classes": [],
      "_model_module": "@jupyter-widgets/controls",
      "_model_module_version": "1.5.0",
      "_model_name": "HTMLModel",
      "_view_count": null,
      "_view_module": "@jupyter-widgets/controls",
      "_view_module_version": "1.5.0",
      "_view_name": "HTMLView",
      "description": "",
      "description_tooltip": null,
      "layout": "IPY_MODEL_b296fa3349504873a95d011e2b6ebdb6",
      "placeholder": "​",
      "style": "IPY_MODEL_dd1274f5e0864e1c8e74523e952f50f4",
      "value": "Downloading (…)okenizer_config.json: 100%"
     }
    },
    "22b7ef8f72e64459b5051c190d771f4e": {
     "model_module": "@jupyter-widgets/base",
     "model_module_version": "1.2.0",
     "model_name": "LayoutModel",
     "state": {
      "_model_module": "@jupyter-widgets/base",
      "_model_module_version": "1.2.0",
      "_model_name": "LayoutModel",
      "_view_count": null,
      "_view_module": "@jupyter-widgets/base",
      "_view_module_version": "1.2.0",
      "_view_name": "LayoutView",
      "align_content": null,
      "align_items": null,
      "align_self": null,
      "border": null,
      "bottom": null,
      "display": null,
      "flex": null,
      "flex_flow": null,
      "grid_area": null,
      "grid_auto_columns": null,
      "grid_auto_flow": null,
      "grid_auto_rows": null,
      "grid_column": null,
      "grid_gap": null,
      "grid_row": null,
      "grid_template_areas": null,
      "grid_template_columns": null,
      "grid_template_rows": null,
      "height": null,
      "justify_content": null,
      "justify_items": null,
      "left": null,
      "margin": null,
      "max_height": null,
      "max_width": null,
      "min_height": null,
      "min_width": null,
      "object_fit": null,
      "object_position": null,
      "order": null,
      "overflow": null,
      "overflow_x": null,
      "overflow_y": null,
      "padding": null,
      "right": null,
      "top": null,
      "visibility": null,
      "width": null
     }
    },
    "2a49bf07937c499592a8110ddf46ced5": {
     "model_module": "@jupyter-widgets/controls",
     "model_module_version": "1.5.0",
     "model_name": "HTMLModel",
     "state": {
      "_dom_classes": [],
      "_model_module": "@jupyter-widgets/controls",
      "_model_module_version": "1.5.0",
      "_model_name": "HTMLModel",
      "_view_count": null,
      "_view_module": "@jupyter-widgets/controls",
      "_view_module_version": "1.5.0",
      "_view_name": "HTMLView",
      "description": "",
      "description_tooltip": null,
      "layout": "IPY_MODEL_ab8f03df52d240f0bae974f12496305f",
      "placeholder": "​",
      "style": "IPY_MODEL_da436766db24452d862459f9ca39e351",
      "value": " 440M/440M [00:03&lt;00:00, 127MB/s]"
     }
    },
    "2ead6494f565401085849c72f0993f02": {
     "model_module": "@jupyter-widgets/controls",
     "model_module_version": "1.5.0",
     "model_name": "ProgressStyleModel",
     "state": {
      "_model_module": "@jupyter-widgets/controls",
      "_model_module_version": "1.5.0",
      "_model_name": "ProgressStyleModel",
      "_view_count": null,
      "_view_module": "@jupyter-widgets/base",
      "_view_module_version": "1.2.0",
      "_view_name": "StyleView",
      "bar_color": null,
      "description_width": ""
     }
    },
    "2ec952cc238742d0b5796ea804b37702": {
     "model_module": "@jupyter-widgets/controls",
     "model_module_version": "1.5.0",
     "model_name": "ProgressStyleModel",
     "state": {
      "_model_module": "@jupyter-widgets/controls",
      "_model_module_version": "1.5.0",
      "_model_name": "ProgressStyleModel",
      "_view_count": null,
      "_view_module": "@jupyter-widgets/base",
      "_view_module_version": "1.2.0",
      "_view_name": "StyleView",
      "bar_color": null,
      "description_width": ""
     }
    },
    "3110acb92f5b41608e46eff915d265c7": {
     "model_module": "@jupyter-widgets/base",
     "model_module_version": "1.2.0",
     "model_name": "LayoutModel",
     "state": {
      "_model_module": "@jupyter-widgets/base",
      "_model_module_version": "1.2.0",
      "_model_name": "LayoutModel",
      "_view_count": null,
      "_view_module": "@jupyter-widgets/base",
      "_view_module_version": "1.2.0",
      "_view_name": "LayoutView",
      "align_content": null,
      "align_items": null,
      "align_self": null,
      "border": null,
      "bottom": null,
      "display": null,
      "flex": null,
      "flex_flow": null,
      "grid_area": null,
      "grid_auto_columns": null,
      "grid_auto_flow": null,
      "grid_auto_rows": null,
      "grid_column": null,
      "grid_gap": null,
      "grid_row": null,
      "grid_template_areas": null,
      "grid_template_columns": null,
      "grid_template_rows": null,
      "height": null,
      "justify_content": null,
      "justify_items": null,
      "left": null,
      "margin": null,
      "max_height": null,
      "max_width": null,
      "min_height": null,
      "min_width": null,
      "object_fit": null,
      "object_position": null,
      "order": null,
      "overflow": null,
      "overflow_x": null,
      "overflow_y": null,
      "padding": null,
      "right": null,
      "top": null,
      "visibility": null,
      "width": null
     }
    },
    "4fd185b6d876487c8530601921c81cb4": {
     "model_module": "@jupyter-widgets/base",
     "model_module_version": "1.2.0",
     "model_name": "LayoutModel",
     "state": {
      "_model_module": "@jupyter-widgets/base",
      "_model_module_version": "1.2.0",
      "_model_name": "LayoutModel",
      "_view_count": null,
      "_view_module": "@jupyter-widgets/base",
      "_view_module_version": "1.2.0",
      "_view_name": "LayoutView",
      "align_content": null,
      "align_items": null,
      "align_self": null,
      "border": null,
      "bottom": null,
      "display": null,
      "flex": null,
      "flex_flow": null,
      "grid_area": null,
      "grid_auto_columns": null,
      "grid_auto_flow": null,
      "grid_auto_rows": null,
      "grid_column": null,
      "grid_gap": null,
      "grid_row": null,
      "grid_template_areas": null,
      "grid_template_columns": null,
      "grid_template_rows": null,
      "height": null,
      "justify_content": null,
      "justify_items": null,
      "left": null,
      "margin": null,
      "max_height": null,
      "max_width": null,
      "min_height": null,
      "min_width": null,
      "object_fit": null,
      "object_position": null,
      "order": null,
      "overflow": null,
      "overflow_x": null,
      "overflow_y": null,
      "padding": null,
      "right": null,
      "top": null,
      "visibility": null,
      "width": null
     }
    },
    "57a0d42939044cce99a7d639f2e5f467": {
     "model_module": "@jupyter-widgets/base",
     "model_module_version": "1.2.0",
     "model_name": "LayoutModel",
     "state": {
      "_model_module": "@jupyter-widgets/base",
      "_model_module_version": "1.2.0",
      "_model_name": "LayoutModel",
      "_view_count": null,
      "_view_module": "@jupyter-widgets/base",
      "_view_module_version": "1.2.0",
      "_view_name": "LayoutView",
      "align_content": null,
      "align_items": null,
      "align_self": null,
      "border": null,
      "bottom": null,
      "display": null,
      "flex": null,
      "flex_flow": null,
      "grid_area": null,
      "grid_auto_columns": null,
      "grid_auto_flow": null,
      "grid_auto_rows": null,
      "grid_column": null,
      "grid_gap": null,
      "grid_row": null,
      "grid_template_areas": null,
      "grid_template_columns": null,
      "grid_template_rows": null,
      "height": null,
      "justify_content": null,
      "justify_items": null,
      "left": null,
      "margin": null,
      "max_height": null,
      "max_width": null,
      "min_height": null,
      "min_width": null,
      "object_fit": null,
      "object_position": null,
      "order": null,
      "overflow": null,
      "overflow_x": null,
      "overflow_y": null,
      "padding": null,
      "right": null,
      "top": null,
      "visibility": null,
      "width": null
     }
    },
    "5a69ddfb010a425c9e5f3d5743899345": {
     "model_module": "@jupyter-widgets/base",
     "model_module_version": "1.2.0",
     "model_name": "LayoutModel",
     "state": {
      "_model_module": "@jupyter-widgets/base",
      "_model_module_version": "1.2.0",
      "_model_name": "LayoutModel",
      "_view_count": null,
      "_view_module": "@jupyter-widgets/base",
      "_view_module_version": "1.2.0",
      "_view_name": "LayoutView",
      "align_content": null,
      "align_items": null,
      "align_self": null,
      "border": null,
      "bottom": null,
      "display": null,
      "flex": null,
      "flex_flow": null,
      "grid_area": null,
      "grid_auto_columns": null,
      "grid_auto_flow": null,
      "grid_auto_rows": null,
      "grid_column": null,
      "grid_gap": null,
      "grid_row": null,
      "grid_template_areas": null,
      "grid_template_columns": null,
      "grid_template_rows": null,
      "height": null,
      "justify_content": null,
      "justify_items": null,
      "left": null,
      "margin": null,
      "max_height": null,
      "max_width": null,
      "min_height": null,
      "min_width": null,
      "object_fit": null,
      "object_position": null,
      "order": null,
      "overflow": null,
      "overflow_x": null,
      "overflow_y": null,
      "padding": null,
      "right": null,
      "top": null,
      "visibility": null,
      "width": null
     }
    },
    "72feab68c3a046bca1e3244e9c4c0478": {
     "model_module": "@jupyter-widgets/base",
     "model_module_version": "1.2.0",
     "model_name": "LayoutModel",
     "state": {
      "_model_module": "@jupyter-widgets/base",
      "_model_module_version": "1.2.0",
      "_model_name": "LayoutModel",
      "_view_count": null,
      "_view_module": "@jupyter-widgets/base",
      "_view_module_version": "1.2.0",
      "_view_name": "LayoutView",
      "align_content": null,
      "align_items": null,
      "align_self": null,
      "border": null,
      "bottom": null,
      "display": null,
      "flex": null,
      "flex_flow": null,
      "grid_area": null,
      "grid_auto_columns": null,
      "grid_auto_flow": null,
      "grid_auto_rows": null,
      "grid_column": null,
      "grid_gap": null,
      "grid_row": null,
      "grid_template_areas": null,
      "grid_template_columns": null,
      "grid_template_rows": null,
      "height": null,
      "justify_content": null,
      "justify_items": null,
      "left": null,
      "margin": null,
      "max_height": null,
      "max_width": null,
      "min_height": null,
      "min_width": null,
      "object_fit": null,
      "object_position": null,
      "order": null,
      "overflow": null,
      "overflow_x": null,
      "overflow_y": null,
      "padding": null,
      "right": null,
      "top": null,
      "visibility": null,
      "width": null
     }
    },
    "74b205774685469ba033fc37d04adeab": {
     "model_module": "@jupyter-widgets/controls",
     "model_module_version": "1.5.0",
     "model_name": "FloatProgressModel",
     "state": {
      "_dom_classes": [],
      "_model_module": "@jupyter-widgets/controls",
      "_model_module_version": "1.5.0",
      "_model_name": "FloatProgressModel",
      "_view_count": null,
      "_view_module": "@jupyter-widgets/controls",
      "_view_module_version": "1.5.0",
      "_view_name": "ProgressView",
      "bar_style": "success",
      "description": "",
      "description_tooltip": null,
      "layout": "IPY_MODEL_e89bcf76d0094c86adb4fae01c77d033",
      "max": 28,
      "min": 0,
      "orientation": "horizontal",
      "style": "IPY_MODEL_2ead6494f565401085849c72f0993f02",
      "value": 28
     }
    },
    "862a474acc884bf199b23b23c02e5846": {
     "model_module": "@jupyter-widgets/base",
     "model_module_version": "1.2.0",
     "model_name": "LayoutModel",
     "state": {
      "_model_module": "@jupyter-widgets/base",
      "_model_module_version": "1.2.0",
      "_model_name": "LayoutModel",
      "_view_count": null,
      "_view_module": "@jupyter-widgets/base",
      "_view_module_version": "1.2.0",
      "_view_name": "LayoutView",
      "align_content": null,
      "align_items": null,
      "align_self": null,
      "border": null,
      "bottom": null,
      "display": null,
      "flex": null,
      "flex_flow": null,
      "grid_area": null,
      "grid_auto_columns": null,
      "grid_auto_flow": null,
      "grid_auto_rows": null,
      "grid_column": null,
      "grid_gap": null,
      "grid_row": null,
      "grid_template_areas": null,
      "grid_template_columns": null,
      "grid_template_rows": null,
      "height": null,
      "justify_content": null,
      "justify_items": null,
      "left": null,
      "margin": null,
      "max_height": null,
      "max_width": null,
      "min_height": null,
      "min_width": null,
      "object_fit": null,
      "object_position": null,
      "order": null,
      "overflow": null,
      "overflow_x": null,
      "overflow_y": null,
      "padding": null,
      "right": null,
      "top": null,
      "visibility": null,
      "width": null
     }
    },
    "87075406294b436dbff29428fc716587": {
     "model_module": "@jupyter-widgets/controls",
     "model_module_version": "1.5.0",
     "model_name": "ProgressStyleModel",
     "state": {
      "_model_module": "@jupyter-widgets/controls",
      "_model_module_version": "1.5.0",
      "_model_name": "ProgressStyleModel",
      "_view_count": null,
      "_view_module": "@jupyter-widgets/base",
      "_view_module_version": "1.2.0",
      "_view_name": "StyleView",
      "bar_color": null,
      "description_width": ""
     }
    },
    "8a87ec401edb4acdaa8e9cc128eff6e6": {
     "model_module": "@jupyter-widgets/base",
     "model_module_version": "1.2.0",
     "model_name": "LayoutModel",
     "state": {
      "_model_module": "@jupyter-widgets/base",
      "_model_module_version": "1.2.0",
      "_model_name": "LayoutModel",
      "_view_count": null,
      "_view_module": "@jupyter-widgets/base",
      "_view_module_version": "1.2.0",
      "_view_name": "LayoutView",
      "align_content": null,
      "align_items": null,
      "align_self": null,
      "border": null,
      "bottom": null,
      "display": null,
      "flex": null,
      "flex_flow": null,
      "grid_area": null,
      "grid_auto_columns": null,
      "grid_auto_flow": null,
      "grid_auto_rows": null,
      "grid_column": null,
      "grid_gap": null,
      "grid_row": null,
      "grid_template_areas": null,
      "grid_template_columns": null,
      "grid_template_rows": null,
      "height": null,
      "justify_content": null,
      "justify_items": null,
      "left": null,
      "margin": null,
      "max_height": null,
      "max_width": null,
      "min_height": null,
      "min_width": null,
      "object_fit": null,
      "object_position": null,
      "order": null,
      "overflow": null,
      "overflow_x": null,
      "overflow_y": null,
      "padding": null,
      "right": null,
      "top": null,
      "visibility": null,
      "width": null
     }
    },
    "9a41e55abac4443ba2d79d6e81d7e3d0": {
     "model_module": "@jupyter-widgets/controls",
     "model_module_version": "1.5.0",
     "model_name": "DescriptionStyleModel",
     "state": {
      "_model_module": "@jupyter-widgets/controls",
      "_model_module_version": "1.5.0",
      "_model_name": "DescriptionStyleModel",
      "_view_count": null,
      "_view_module": "@jupyter-widgets/base",
      "_view_module_version": "1.2.0",
      "_view_name": "StyleView",
      "description_width": ""
     }
    },
    "9ab6a86085014edea91e12b6eba66ba7": {
     "model_module": "@jupyter-widgets/base",
     "model_module_version": "1.2.0",
     "model_name": "LayoutModel",
     "state": {
      "_model_module": "@jupyter-widgets/base",
      "_model_module_version": "1.2.0",
      "_model_name": "LayoutModel",
      "_view_count": null,
      "_view_module": "@jupyter-widgets/base",
      "_view_module_version": "1.2.0",
      "_view_name": "LayoutView",
      "align_content": null,
      "align_items": null,
      "align_self": null,
      "border": null,
      "bottom": null,
      "display": null,
      "flex": null,
      "flex_flow": null,
      "grid_area": null,
      "grid_auto_columns": null,
      "grid_auto_flow": null,
      "grid_auto_rows": null,
      "grid_column": null,
      "grid_gap": null,
      "grid_row": null,
      "grid_template_areas": null,
      "grid_template_columns": null,
      "grid_template_rows": null,
      "height": null,
      "justify_content": null,
      "justify_items": null,
      "left": null,
      "margin": null,
      "max_height": null,
      "max_width": null,
      "min_height": null,
      "min_width": null,
      "object_fit": null,
      "object_position": null,
      "order": null,
      "overflow": null,
      "overflow_x": null,
      "overflow_y": null,
      "padding": null,
      "right": null,
      "top": null,
      "visibility": null,
      "width": null
     }
    },
    "9aee380a636d4363ac02c77a3db8d0ed": {
     "model_module": "@jupyter-widgets/controls",
     "model_module_version": "1.5.0",
     "model_name": "HBoxModel",
     "state": {
      "_dom_classes": [],
      "_model_module": "@jupyter-widgets/controls",
      "_model_module_version": "1.5.0",
      "_model_name": "HBoxModel",
      "_view_count": null,
      "_view_module": "@jupyter-widgets/controls",
      "_view_module_version": "1.5.0",
      "_view_name": "HBoxView",
      "box_style": "",
      "children": [
       "IPY_MODEL_09338934123a4b70b20c1875c0fddf22",
       "IPY_MODEL_b30cb02df9174d75917441a5136c97bc",
       "IPY_MODEL_fc3d3e13a7d24be09a4487de33beee75"
      ],
      "layout": "IPY_MODEL_862a474acc884bf199b23b23c02e5846"
     }
    },
    "a551789a56b44cec80762825108183dc": {
     "model_module": "@jupyter-widgets/controls",
     "model_module_version": "1.5.0",
     "model_name": "DescriptionStyleModel",
     "state": {
      "_model_module": "@jupyter-widgets/controls",
      "_model_module_version": "1.5.0",
      "_model_name": "DescriptionStyleModel",
      "_view_count": null,
      "_view_module": "@jupyter-widgets/base",
      "_view_module_version": "1.2.0",
      "_view_name": "StyleView",
      "description_width": ""
     }
    },
    "a9baeda532d043e69563a92838ee6a6b": {
     "model_module": "@jupyter-widgets/controls",
     "model_module_version": "1.5.0",
     "model_name": "HTMLModel",
     "state": {
      "_dom_classes": [],
      "_model_module": "@jupyter-widgets/controls",
      "_model_module_version": "1.5.0",
      "_model_name": "HTMLModel",
      "_view_count": null,
      "_view_module": "@jupyter-widgets/controls",
      "_view_module_version": "1.5.0",
      "_view_name": "HTMLView",
      "description": "",
      "description_tooltip": null,
      "layout": "IPY_MODEL_9ab6a86085014edea91e12b6eba66ba7",
      "placeholder": "​",
      "style": "IPY_MODEL_ca9f07f92eaa47519eddf4b2e6aac28a",
      "value": " 28.0/28.0 [00:00&lt;00:00, 1.72kB/s]"
     }
    },
    "ab8f03df52d240f0bae974f12496305f": {
     "model_module": "@jupyter-widgets/base",
     "model_module_version": "1.2.0",
     "model_name": "LayoutModel",
     "state": {
      "_model_module": "@jupyter-widgets/base",
      "_model_module_version": "1.2.0",
      "_model_name": "LayoutModel",
      "_view_count": null,
      "_view_module": "@jupyter-widgets/base",
      "_view_module_version": "1.2.0",
      "_view_name": "LayoutView",
      "align_content": null,
      "align_items": null,
      "align_self": null,
      "border": null,
      "bottom": null,
      "display": null,
      "flex": null,
      "flex_flow": null,
      "grid_area": null,
      "grid_auto_columns": null,
      "grid_auto_flow": null,
      "grid_auto_rows": null,
      "grid_column": null,
      "grid_gap": null,
      "grid_row": null,
      "grid_template_areas": null,
      "grid_template_columns": null,
      "grid_template_rows": null,
      "height": null,
      "justify_content": null,
      "justify_items": null,
      "left": null,
      "margin": null,
      "max_height": null,
      "max_width": null,
      "min_height": null,
      "min_width": null,
      "object_fit": null,
      "object_position": null,
      "order": null,
      "overflow": null,
      "overflow_x": null,
      "overflow_y": null,
      "padding": null,
      "right": null,
      "top": null,
      "visibility": null,
      "width": null
     }
    },
    "afe98686b1434d70a8eb0b24a80e45b0": {
     "model_module": "@jupyter-widgets/controls",
     "model_module_version": "1.5.0",
     "model_name": "FloatProgressModel",
     "state": {
      "_dom_classes": [],
      "_model_module": "@jupyter-widgets/controls",
      "_model_module_version": "1.5.0",
      "_model_name": "FloatProgressModel",
      "_view_count": null,
      "_view_module": "@jupyter-widgets/controls",
      "_view_module_version": "1.5.0",
      "_view_name": "ProgressView",
      "bar_style": "success",
      "description": "",
      "description_tooltip": null,
      "layout": "IPY_MODEL_fe25de280a7b483ab173e458f3028a9d",
      "max": 440449768,
      "min": 0,
      "orientation": "horizontal",
      "style": "IPY_MODEL_b11520232eeb425bb609642be1fa7ec9",
      "value": 440449768
     }
    },
    "b11520232eeb425bb609642be1fa7ec9": {
     "model_module": "@jupyter-widgets/controls",
     "model_module_version": "1.5.0",
     "model_name": "ProgressStyleModel",
     "state": {
      "_model_module": "@jupyter-widgets/controls",
      "_model_module_version": "1.5.0",
      "_model_name": "ProgressStyleModel",
      "_view_count": null,
      "_view_module": "@jupyter-widgets/base",
      "_view_module_version": "1.2.0",
      "_view_name": "StyleView",
      "bar_color": null,
      "description_width": ""
     }
    },
    "b296fa3349504873a95d011e2b6ebdb6": {
     "model_module": "@jupyter-widgets/base",
     "model_module_version": "1.2.0",
     "model_name": "LayoutModel",
     "state": {
      "_model_module": "@jupyter-widgets/base",
      "_model_module_version": "1.2.0",
      "_model_name": "LayoutModel",
      "_view_count": null,
      "_view_module": "@jupyter-widgets/base",
      "_view_module_version": "1.2.0",
      "_view_name": "LayoutView",
      "align_content": null,
      "align_items": null,
      "align_self": null,
      "border": null,
      "bottom": null,
      "display": null,
      "flex": null,
      "flex_flow": null,
      "grid_area": null,
      "grid_auto_columns": null,
      "grid_auto_flow": null,
      "grid_auto_rows": null,
      "grid_column": null,
      "grid_gap": null,
      "grid_row": null,
      "grid_template_areas": null,
      "grid_template_columns": null,
      "grid_template_rows": null,
      "height": null,
      "justify_content": null,
      "justify_items": null,
      "left": null,
      "margin": null,
      "max_height": null,
      "max_width": null,
      "min_height": null,
      "min_width": null,
      "object_fit": null,
      "object_position": null,
      "order": null,
      "overflow": null,
      "overflow_x": null,
      "overflow_y": null,
      "padding": null,
      "right": null,
      "top": null,
      "visibility": null,
      "width": null
     }
    },
    "b30cb02df9174d75917441a5136c97bc": {
     "model_module": "@jupyter-widgets/controls",
     "model_module_version": "1.5.0",
     "model_name": "FloatProgressModel",
     "state": {
      "_dom_classes": [],
      "_model_module": "@jupyter-widgets/controls",
      "_model_module_version": "1.5.0",
      "_model_name": "FloatProgressModel",
      "_view_count": null,
      "_view_module": "@jupyter-widgets/controls",
      "_view_module_version": "1.5.0",
      "_view_name": "ProgressView",
      "bar_style": "success",
      "description": "",
      "description_tooltip": null,
      "layout": "IPY_MODEL_026b5f49480443cfb00a440ae580c93a",
      "max": 231508,
      "min": 0,
      "orientation": "horizontal",
      "style": "IPY_MODEL_87075406294b436dbff29428fc716587",
      "value": 231508
     }
    },
    "c00d6de356184a67835498d8a9258d0c": {
     "model_module": "@jupyter-widgets/controls",
     "model_module_version": "1.5.0",
     "model_name": "HTMLModel",
     "state": {
      "_dom_classes": [],
      "_model_module": "@jupyter-widgets/controls",
      "_model_module_version": "1.5.0",
      "_model_name": "HTMLModel",
      "_view_count": null,
      "_view_module": "@jupyter-widgets/controls",
      "_view_module_version": "1.5.0",
      "_view_name": "HTMLView",
      "description": "",
      "description_tooltip": null,
      "layout": "IPY_MODEL_16d8cb003a2344398e01ffff5e405926",
      "placeholder": "​",
      "style": "IPY_MODEL_a551789a56b44cec80762825108183dc",
      "value": "Downloading model.safetensors: 100%"
     }
    },
    "c294ab2481164f00920050205fb006cb": {
     "model_module": "@jupyter-widgets/base",
     "model_module_version": "1.2.0",
     "model_name": "LayoutModel",
     "state": {
      "_model_module": "@jupyter-widgets/base",
      "_model_module_version": "1.2.0",
      "_model_name": "LayoutModel",
      "_view_count": null,
      "_view_module": "@jupyter-widgets/base",
      "_view_module_version": "1.2.0",
      "_view_name": "LayoutView",
      "align_content": null,
      "align_items": null,
      "align_self": null,
      "border": null,
      "bottom": null,
      "display": null,
      "flex": null,
      "flex_flow": null,
      "grid_area": null,
      "grid_auto_columns": null,
      "grid_auto_flow": null,
      "grid_auto_rows": null,
      "grid_column": null,
      "grid_gap": null,
      "grid_row": null,
      "grid_template_areas": null,
      "grid_template_columns": null,
      "grid_template_rows": null,
      "height": null,
      "justify_content": null,
      "justify_items": null,
      "left": null,
      "margin": null,
      "max_height": null,
      "max_width": null,
      "min_height": null,
      "min_width": null,
      "object_fit": null,
      "object_position": null,
      "order": null,
      "overflow": null,
      "overflow_x": null,
      "overflow_y": null,
      "padding": null,
      "right": null,
      "top": null,
      "visibility": null,
      "width": null
     }
    },
    "c4fc4f9597a148938508f27e0560a6dd": {
     "model_module": "@jupyter-widgets/controls",
     "model_module_version": "1.5.0",
     "model_name": "HBoxModel",
     "state": {
      "_dom_classes": [],
      "_model_module": "@jupyter-widgets/controls",
      "_model_module_version": "1.5.0",
      "_model_name": "HBoxModel",
      "_view_count": null,
      "_view_module": "@jupyter-widgets/controls",
      "_view_module_version": "1.5.0",
      "_view_name": "HBoxView",
      "box_style": "",
      "children": [
       "IPY_MODEL_1e1d1c6b844f4b409475c0a92bec541d",
       "IPY_MODEL_74b205774685469ba033fc37d04adeab",
       "IPY_MODEL_a9baeda532d043e69563a92838ee6a6b"
      ],
      "layout": "IPY_MODEL_8a87ec401edb4acdaa8e9cc128eff6e6"
     }
    },
    "ca9f07f92eaa47519eddf4b2e6aac28a": {
     "model_module": "@jupyter-widgets/controls",
     "model_module_version": "1.5.0",
     "model_name": "DescriptionStyleModel",
     "state": {
      "_model_module": "@jupyter-widgets/controls",
      "_model_module_version": "1.5.0",
      "_model_name": "DescriptionStyleModel",
      "_view_count": null,
      "_view_module": "@jupyter-widgets/base",
      "_view_module_version": "1.2.0",
      "_view_name": "StyleView",
      "description_width": ""
     }
    },
    "cf5bcf936f6e4b7a83d9a1746f2490e9": {
     "model_module": "@jupyter-widgets/controls",
     "model_module_version": "1.5.0",
     "model_name": "DescriptionStyleModel",
     "state": {
      "_model_module": "@jupyter-widgets/controls",
      "_model_module_version": "1.5.0",
      "_model_name": "DescriptionStyleModel",
      "_view_count": null,
      "_view_module": "@jupyter-widgets/base",
      "_view_module_version": "1.2.0",
      "_view_name": "StyleView",
      "description_width": ""
     }
    },
    "da436766db24452d862459f9ca39e351": {
     "model_module": "@jupyter-widgets/controls",
     "model_module_version": "1.5.0",
     "model_name": "DescriptionStyleModel",
     "state": {
      "_model_module": "@jupyter-widgets/controls",
      "_model_module_version": "1.5.0",
      "_model_name": "DescriptionStyleModel",
      "_view_count": null,
      "_view_module": "@jupyter-widgets/base",
      "_view_module_version": "1.2.0",
      "_view_name": "StyleView",
      "description_width": ""
     }
    },
    "dd1274f5e0864e1c8e74523e952f50f4": {
     "model_module": "@jupyter-widgets/controls",
     "model_module_version": "1.5.0",
     "model_name": "DescriptionStyleModel",
     "state": {
      "_model_module": "@jupyter-widgets/controls",
      "_model_module_version": "1.5.0",
      "_model_name": "DescriptionStyleModel",
      "_view_count": null,
      "_view_module": "@jupyter-widgets/base",
      "_view_module_version": "1.2.0",
      "_view_name": "StyleView",
      "description_width": ""
     }
    },
    "e0e59adcba274a7087cc9844bbc60a87": {
     "model_module": "@jupyter-widgets/controls",
     "model_module_version": "1.5.0",
     "model_name": "HTMLModel",
     "state": {
      "_dom_classes": [],
      "_model_module": "@jupyter-widgets/controls",
      "_model_module_version": "1.5.0",
      "_model_name": "HTMLModel",
      "_view_count": null,
      "_view_module": "@jupyter-widgets/controls",
      "_view_module_version": "1.5.0",
      "_view_name": "HTMLView",
      "description": "",
      "description_tooltip": null,
      "layout": "IPY_MODEL_22b7ef8f72e64459b5051c190d771f4e",
      "placeholder": "​",
      "style": "IPY_MODEL_f4477c04433d425cb85833dc1afa036d",
      "value": "Downloading (…)lve/main/config.json: 100%"
     }
    },
    "e616c581e4b048eeb1f53f97326083f0": {
     "model_module": "@jupyter-widgets/controls",
     "model_module_version": "1.5.0",
     "model_name": "HBoxModel",
     "state": {
      "_dom_classes": [],
      "_model_module": "@jupyter-widgets/controls",
      "_model_module_version": "1.5.0",
      "_model_name": "HBoxModel",
      "_view_count": null,
      "_view_module": "@jupyter-widgets/controls",
      "_view_module_version": "1.5.0",
      "_view_name": "HBoxView",
      "box_style": "",
      "children": [
       "IPY_MODEL_c00d6de356184a67835498d8a9258d0c",
       "IPY_MODEL_afe98686b1434d70a8eb0b24a80e45b0",
       "IPY_MODEL_2a49bf07937c499592a8110ddf46ced5"
      ],
      "layout": "IPY_MODEL_c294ab2481164f00920050205fb006cb"
     }
    },
    "e89bcf76d0094c86adb4fae01c77d033": {
     "model_module": "@jupyter-widgets/base",
     "model_module_version": "1.2.0",
     "model_name": "LayoutModel",
     "state": {
      "_model_module": "@jupyter-widgets/base",
      "_model_module_version": "1.2.0",
      "_model_name": "LayoutModel",
      "_view_count": null,
      "_view_module": "@jupyter-widgets/base",
      "_view_module_version": "1.2.0",
      "_view_name": "LayoutView",
      "align_content": null,
      "align_items": null,
      "align_self": null,
      "border": null,
      "bottom": null,
      "display": null,
      "flex": null,
      "flex_flow": null,
      "grid_area": null,
      "grid_auto_columns": null,
      "grid_auto_flow": null,
      "grid_auto_rows": null,
      "grid_column": null,
      "grid_gap": null,
      "grid_row": null,
      "grid_template_areas": null,
      "grid_template_columns": null,
      "grid_template_rows": null,
      "height": null,
      "justify_content": null,
      "justify_items": null,
      "left": null,
      "margin": null,
      "max_height": null,
      "max_width": null,
      "min_height": null,
      "min_width": null,
      "object_fit": null,
      "object_position": null,
      "order": null,
      "overflow": null,
      "overflow_x": null,
      "overflow_y": null,
      "padding": null,
      "right": null,
      "top": null,
      "visibility": null,
      "width": null
     }
    },
    "f3464b6eef214e42b68e67e05c039202": {
     "model_module": "@jupyter-widgets/controls",
     "model_module_version": "1.5.0",
     "model_name": "HTMLModel",
     "state": {
      "_dom_classes": [],
      "_model_module": "@jupyter-widgets/controls",
      "_model_module_version": "1.5.0",
      "_model_name": "HTMLModel",
      "_view_count": null,
      "_view_module": "@jupyter-widgets/controls",
      "_view_module_version": "1.5.0",
      "_view_name": "HTMLView",
      "description": "",
      "description_tooltip": null,
      "layout": "IPY_MODEL_3110acb92f5b41608e46eff915d265c7",
      "placeholder": "​",
      "style": "IPY_MODEL_cf5bcf936f6e4b7a83d9a1746f2490e9",
      "value": " 570/570 [00:00&lt;00:00, 35.2kB/s]"
     }
    },
    "f4477c04433d425cb85833dc1afa036d": {
     "model_module": "@jupyter-widgets/controls",
     "model_module_version": "1.5.0",
     "model_name": "DescriptionStyleModel",
     "state": {
      "_model_module": "@jupyter-widgets/controls",
      "_model_module_version": "1.5.0",
      "_model_name": "DescriptionStyleModel",
      "_view_count": null,
      "_view_module": "@jupyter-widgets/base",
      "_view_module_version": "1.2.0",
      "_view_name": "StyleView",
      "description_width": ""
     }
    },
    "f579ce7c07b44146bb88eaf11c83b016": {
     "model_module": "@jupyter-widgets/controls",
     "model_module_version": "1.5.0",
     "model_name": "FloatProgressModel",
     "state": {
      "_dom_classes": [],
      "_model_module": "@jupyter-widgets/controls",
      "_model_module_version": "1.5.0",
      "_model_name": "FloatProgressModel",
      "_view_count": null,
      "_view_module": "@jupyter-widgets/controls",
      "_view_module_version": "1.5.0",
      "_view_name": "ProgressView",
      "bar_style": "success",
      "description": "",
      "description_tooltip": null,
      "layout": "IPY_MODEL_72feab68c3a046bca1e3244e9c4c0478",
      "max": 570,
      "min": 0,
      "orientation": "horizontal",
      "style": "IPY_MODEL_2ec952cc238742d0b5796ea804b37702",
      "value": 570
     }
    },
    "fc3d3e13a7d24be09a4487de33beee75": {
     "model_module": "@jupyter-widgets/controls",
     "model_module_version": "1.5.0",
     "model_name": "HTMLModel",
     "state": {
      "_dom_classes": [],
      "_model_module": "@jupyter-widgets/controls",
      "_model_module_version": "1.5.0",
      "_model_name": "HTMLModel",
      "_view_count": null,
      "_view_module": "@jupyter-widgets/controls",
      "_view_module_version": "1.5.0",
      "_view_name": "HTMLView",
      "description": "",
      "description_tooltip": null,
      "layout": "IPY_MODEL_57a0d42939044cce99a7d639f2e5f467",
      "placeholder": "​",
      "style": "IPY_MODEL_9a41e55abac4443ba2d79d6e81d7e3d0",
      "value": " 232k/232k [00:00&lt;00:00, 1.75MB/s]"
     }
    },
    "fd673edc3dcd49b98d002bfffeaf002a": {
     "model_module": "@jupyter-widgets/controls",
     "model_module_version": "1.5.0",
     "model_name": "DescriptionStyleModel",
     "state": {
      "_model_module": "@jupyter-widgets/controls",
      "_model_module_version": "1.5.0",
      "_model_name": "DescriptionStyleModel",
      "_view_count": null,
      "_view_module": "@jupyter-widgets/base",
      "_view_module_version": "1.2.0",
      "_view_name": "StyleView",
      "description_width": ""
     }
    },
    "fe25de280a7b483ab173e458f3028a9d": {
     "model_module": "@jupyter-widgets/base",
     "model_module_version": "1.2.0",
     "model_name": "LayoutModel",
     "state": {
      "_model_module": "@jupyter-widgets/base",
      "_model_module_version": "1.2.0",
      "_model_name": "LayoutModel",
      "_view_count": null,
      "_view_module": "@jupyter-widgets/base",
      "_view_module_version": "1.2.0",
      "_view_name": "LayoutView",
      "align_content": null,
      "align_items": null,
      "align_self": null,
      "border": null,
      "bottom": null,
      "display": null,
      "flex": null,
      "flex_flow": null,
      "grid_area": null,
      "grid_auto_columns": null,
      "grid_auto_flow": null,
      "grid_auto_rows": null,
      "grid_column": null,
      "grid_gap": null,
      "grid_row": null,
      "grid_template_areas": null,
      "grid_template_columns": null,
      "grid_template_rows": null,
      "height": null,
      "justify_content": null,
      "justify_items": null,
      "left": null,
      "margin": null,
      "max_height": null,
      "max_width": null,
      "min_height": null,
      "min_width": null,
      "object_fit": null,
      "object_position": null,
      "order": null,
      "overflow": null,
      "overflow_x": null,
      "overflow_y": null,
      "padding": null,
      "right": null,
      "top": null,
      "visibility": null,
      "width": null
     }
    }
   }
  }
 },
 "nbformat": 4,
 "nbformat_minor": 4
}
