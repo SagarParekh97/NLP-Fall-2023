{
 "cells": [
  {
   "cell_type": "code",
   "execution_count": 1,
   "metadata": {},
   "outputs": [],
   "source": [
    "import numpy as np\n",
    "import pandas as pd\n",
    "import matplotlib.pyplot as plt\n",
    "import os\n",
    "from copy import copy\n",
    "from tqdm import tqdm\n",
    "import json\n",
    "import pandas as pd\n",
    "import time \n",
    "\n",
    "import torch\n",
    "from transformers import BertModel, BertTokenizer\n",
    "import torch.nn as nn\n",
    "import torch.optim as optim\n",
    "from torch.utils.data import DataLoader\n",
    "\n",
    "torch.cuda.empty_cache()\n",
    "\n",
    "from rouge import Rouge"
   ]
  },
  {
   "cell_type": "markdown",
   "metadata": {},
   "source": [
    "### Hyperparameters"
   ]
  },
  {
   "cell_type": "code",
   "execution_count": 2,
   "metadata": {},
   "outputs": [],
   "source": [
    "NUM_CLASSES = 4\n",
    "MODEL_NAME = 'bert-base-uncased'\n",
    "MAX_LEN = 256\n",
    "DEVICE = torch.device('cuda' if torch.cuda.is_available() else 'cpu')\n",
    "\n",
    "LR = 1e-5\n",
    "TRAINING_BATCH_SIZE = 8\n",
    "VAL_BATCH_SIZE = 1\n",
    "EPOCHS = 5\n",
    "NUM_WORKERS = 8\n",
    "\n",
    "device = torch.device('cuda' if torch.cuda.is_available() else 'cpu')"
   ]
  },
  {
   "cell_type": "markdown",
   "metadata": {},
   "source": [
    "### Read dataset"
   ]
  },
  {
   "cell_type": "code",
   "execution_count": 3,
   "metadata": {},
   "outputs": [
    {
     "name": "stdout",
     "output_type": "stream",
     "text": [
      "Train dataset size: 25262\n",
      "Test dataset size: 6963\n",
      "Dev dataset size: 2985\n"
     ]
    }
   ],
   "source": [
    "loc = './dataset/'\n",
    "\n",
    "train = pd.read_csv(loc + 'train.csv')\n",
    "test = pd.read_json(loc + 'test.jsonl', lines=True)\n",
    "val = pd.read_csv(loc + 'valid.csv')\n",
    "\n",
    "print('Train dataset size: {}'.format(len(train)))\n",
    "print('Test dataset size: {}'.format(len(test)))\n",
    "print('Dev dataset size: {}'.format(len(val)))"
   ]
  },
  {
   "cell_type": "markdown",
   "metadata": {},
   "source": [
    "**Define collate function for dataloader**\n",
    "\n",
    "Need to define how to stack batches since different sentences can have different lengths"
   ]
  },
  {
   "cell_type": "code",
   "execution_count": 4,
   "metadata": {},
   "outputs": [],
   "source": [
    "def send_to_device(*args):\n",
    "    return (item.to(DEVICE) \n",
    "            if isinstance(item, torch.Tensor) \n",
    "            else item\n",
    "            for item in args)"
   ]
  },
  {
   "cell_type": "code",
   "execution_count": 5,
   "metadata": {},
   "outputs": [],
   "source": [
    "def collate_fcn(batch):\n",
    "    ids = [x['id'] for x in batch]\n",
    "    features = [x['features'] for x in batch]\n",
    "    tokens_batch, input_ids_batch, input_masks_batch, token_type_ids_batch, p_len_batch, q_len_batch, a_len_batch = ([] for _ in range(7))\n",
    "    for f_i in features:\n",
    "        tokens, input_ids, input_masks, token_type_ids, p_len, q_len, a_len = ([] for _ in range(7))\n",
    "        for f in f_i:\n",
    "            tokens.append(f[0])\n",
    "            input_ids.append(f[1])\n",
    "            input_masks.append(f[2])\n",
    "            token_type_ids.append(f[3])\n",
    "            p_len.append(f[4])\n",
    "            q_len.append(f[5])\n",
    "            a_len.append(f[6])\n",
    "        tokens_batch.append(tokens)\n",
    "        input_ids_batch.append(input_ids)\n",
    "        input_masks_batch.append(input_masks)\n",
    "        token_type_ids_batch.append(token_type_ids)\n",
    "        p_len_batch.append(p_len)\n",
    "        q_len_batch.append(q_len)\n",
    "        a_len_batch.append(a_len)\n",
    "    input_ids_batch = torch.tensor(input_ids_batch, dtype=torch.long)\n",
    "    input_masks_batch = torch.tensor(input_masks_batch, dtype=torch.long)\n",
    "    token_type_ids_batch = torch.tensor(token_type_ids_batch, dtype=torch.long)\n",
    "    p_len_batch = torch.tensor(p_len_batch, dtype=torch.long)\n",
    "    q_len_batch = torch.tensor(q_len_batch, dtype=torch.long)\n",
    "    a_len_batch = torch.tensor(a_len_batch, dtype=torch.long)\n",
    "    labels = torch.tensor([x['label'] for x in batch], dtype=torch.long)\n",
    "\n",
    "    return ids, tokens_batch, input_ids_batch, input_masks_batch, token_type_ids_batch, p_len_batch, q_len_batch, a_len_batch, labels"
   ]
  },
  {
   "cell_type": "markdown",
   "metadata": {},
   "source": [
    "### Create Dataset"
   ]
  },
  {
   "cell_type": "code",
   "execution_count": 6,
   "metadata": {},
   "outputs": [],
   "source": [
    "class Dataset(torch.utils.data.Dataset):\n",
    "    def __init__(self, df, tokenizer, max_len, add_CLS=True):\n",
    "        self.df = df\n",
    "        self.tokenizer = tokenizer\n",
    "        self.max_len = max_len\n",
    "        self.add_CLS = add_CLS\n",
    "\n",
    "    def __len__(self):\n",
    "        return len(self.df)\n",
    "\n",
    "    def _truncate_seq(self, seq_1, seq_2, max_length):\n",
    "        ''' Truncate a sequence pair in place to keep the combined length = maximum length. \n",
    "            Always truncate the longer sequence. '''\n",
    "        while True:\n",
    "            total_len = len(seq_1) + len(seq_2)\n",
    "            if total_len <= max_length:\n",
    "                break\n",
    "            if len(seq_1) > len(seq_2):\n",
    "                seq_1.pop()\n",
    "            else:\n",
    "                seq_2.pop()\n",
    "\n",
    "    def __getitem__(self, index):\n",
    "        row = self.df.iloc[index]\n",
    "        id = row['id']\n",
    "        context = row['context']\n",
    "        question = row['question']\n",
    "        options = [row['answer0'], row['answer1'], row['answer2'], row['answer3']]\n",
    "        correct_opt = row['label']\n",
    "        \n",
    "        # take care of the case where the option is None\n",
    "        options = [str(opt) if not isinstance(opt, str) else opt for opt in options]\n",
    "\n",
    "        feature_set = []\n",
    "        context_tokens = self.tokenizer.tokenize(context)\n",
    "        question_tokens = self.tokenizer.tokenize(question)\n",
    "        for opt in options:\n",
    "            opt_tokens = self.tokenizer.tokenize(opt)\n",
    "            q_opt_tok = question_tokens + opt_tokens\n",
    "\n",
    "            # truncate the context and question + option if they are too long\n",
    "            self._truncate_seq(context_tokens, q_opt_tok, self.max_len - 3)\n",
    "\n",
    "            ''' [CLS] context [SEP] question option [SEP] '''\n",
    "            ''' [ 0      0      0      1       1      1 ] '''\n",
    "            tokens = ['[CLS]'] + context_tokens + ['[SEP]'] + q_opt_tok + ['[SEP]']\n",
    "            token_type_ids = [0] * (len(context_tokens) + 2) + [1] * (len(q_opt_tok) + 1)\n",
    "            \n",
    "            input_ids = self.tokenizer.convert_tokens_to_ids(tokens)\n",
    "            input_masks = [1] * len(input_ids)\n",
    "\n",
    "            # pad the tokens to max length\n",
    "            padding_length = self.max_len - len(input_ids)\n",
    "            padding = [0] * padding_length\n",
    "            input_ids += padding\n",
    "            input_masks += padding\n",
    "            token_type_ids += padding\n",
    "\n",
    "            assert len(input_ids) == self.max_len, \"Input ids should be {}, but is {} instead\".format(self.max_len, len(input_ids))\n",
    "            assert len(input_masks) == self.max_len, \"Input masks should be {}, but is {} instead\".format(self.max_len, len(input_masks))\n",
    "            assert len(token_type_ids) == self.max_len, \"Token type ids should be {}, but is {} instead\".format(self.max_len, len(token_type_ids))\n",
    "\n",
    "            feature_set.append((tokens, input_ids, input_masks, token_type_ids,\n",
    "                                len(context_tokens), len(question_tokens), len(opt_tokens)))\n",
    "\n",
    "        return {'id': id,\n",
    "                'features': feature_set,\n",
    "                'label': correct_opt}"
   ]
  },
  {
   "cell_type": "markdown",
   "metadata": {},
   "source": [
    "## Model architecture for Question-Answering\n",
    "To enhance the context understanding ability of BERT fine-tuning, we perform multiway bidirectional attention over the BERT encoding output. The model architecture is adopted from **DCMN+: Dual Co-Matching Network for Multi-choice Reading Comprehension** [(arxiv)](https://arxiv.org/pdf/1908.11511.pdf) "
   ]
  },
  {
   "cell_type": "code",
   "execution_count": 7,
   "metadata": {},
   "outputs": [],
   "source": [
    "def masked_softmax(vector, seq_len):\n",
    "    mask = vector.new(vector.size()).zero_()\n",
    "    for i in range(seq_len.size(0)):\n",
    "        mask[i, :, :seq_len[i]] = 1\n",
    "    mask = torch.autograd.Variable(mask, requires_grad=False)\n",
    "\n",
    "    if mask is None:\n",
    "        result = torch.nn.functional.softmax(vector, dim=-1)\n",
    "    else:\n",
    "        result = torch.nn.functional.softmax(vector * mask, dim=-1)\n",
    "        result = result * mask\n",
    "        result = result / (result.sum(dim=-1, keepdim=True) + 1e-13)\n",
    "    return result\n",
    "\n",
    "class Single_matchNet(nn.Module):\n",
    "    def __init__(self, config):\n",
    "        super(Single_matchNet, self).__init__()\n",
    "        self.map_linear = nn.Linear(2 * config.hidden_size, 2 * config.hidden_size)\n",
    "        self.trans_linear = nn.Linear(config.hidden_size, config.hidden_size)\n",
    "        self.drop_module = nn.Dropout(config.hidden_dropout_prob)\n",
    "        self.rank_module = nn.Linear(2 * config.hidden_size, 1)\n",
    "\n",
    "    def forward(self, inputs):\n",
    "        proj_p, proj_q, seq_len = inputs\n",
    "        trans_q = self.trans_linear(proj_q)\n",
    "        att_weights = proj_p.bmm(torch.transpose(trans_q, 1, 2))\n",
    "        att_norm = masked_softmax(att_weights, seq_len)\n",
    "\n",
    "        att_vec = att_norm.bmm(proj_q)\n",
    "        output = nn.ReLU()(self.trans_linear(att_vec))\n",
    "        return output\n",
    "        \n",
    "class Fuse_net(nn.Module):\n",
    "    def __init__(self, config):\n",
    "        super(Fuse_net, self).__init__()\n",
    "        self.linear = nn.Linear(config.hidden_size, config.hidden_size)\n",
    "        self.linear2 = nn.Linear(2 * config.hidden_size, 2 * config.hidden_size)\n",
    "\n",
    "    def forward(self, inputs):\n",
    "        p, q = inputs\n",
    "        lq = self.linear(q)\n",
    "        lp = self.linear(p)\n",
    "        mid = nn.Sigmoid()(lp + lq)\n",
    "        output = mid * p + (1 - mid) * q\n",
    "        return output\n",
    "    \n",
    "class BertPooler(nn.Module):\n",
    "    def __init__(self, config):\n",
    "        super(BertPooler, self).__init__()\n",
    "        self.dense = nn.Linear(config.hidden_size, config.hidden_size)\n",
    "        self.activation = nn.Tanh()\n",
    "\n",
    "    def forward(self, hidden_states):\n",
    "        first_token_tensor = hidden_states[:, 0]\n",
    "        pooled_output = self.dense(first_token_tensor)\n",
    "        pooled_output = self.activation(pooled_output)\n",
    "        return pooled_output"
   ]
  },
  {
   "cell_type": "code",
   "execution_count": 8,
   "metadata": {},
   "outputs": [],
   "source": [
    "def separate_seq(sequence_output, p_len, q_len, a_len):\n",
    "    p_seq_output = sequence_output.new(sequence_output.size()).zero_()\n",
    "    q_seq_output = sequence_output.new(sequence_output.size()).zero_()\n",
    "    a_seq_output = sequence_output.new(sequence_output.size()).zero_()\n",
    "    p_q_seq_output = sequence_output.new(sequence_output.size()).zero_()\n",
    "    q_a_seq_output = sequence_output.new(sequence_output.size()).zero_()\n",
    "    for i in range(p_len.size(0)):\n",
    "        p_seq_output[i, :p_len[i]] = sequence_output[i, 1:p_len[i] + 1]\n",
    "        q_seq_output[i, :q_len[i]] = sequence_output[i, p_len[i] + 2:p_len[i] + 2 + q_len[i]]\n",
    "        a_seq_output[i, :a_len[i]] = sequence_output[i, p_len[i] + q_len[i] + 2:p_len[i] + q_len[i] + 2 + a_len[i]]\n",
    "        '''#############################################################################'''\n",
    "        # p_q_seq_output[i, :p_len[i] + q_len[i]] = sequence_output[i, :p_len[i] + q_len[i] + 2]\n",
    "        p_q_seq_output[i, :p_len[i] + q_len[i]] = sequence_output[i, :p_len[i] + q_len[i]]\n",
    "        '''#############################################################################'''\n",
    "        q_a_seq_output[i, :q_len[i] + a_len[i]] = sequence_output[i, p_len[i] + 1:p_len[i] + q_len[i] + a_len[i] + 1]\n",
    "    \n",
    "    return p_seq_output, q_seq_output, a_seq_output, p_q_seq_output, q_a_seq_output"
   ]
  },
  {
   "cell_type": "code",
   "execution_count": 9,
   "metadata": {},
   "outputs": [],
   "source": [
    "class BERT_multChoice(nn.Module):\n",
    "    def __init__(self, hidden_size=None):\n",
    "        super(BERT_multChoice, self).__init__()\n",
    "\n",
    "        self.bert_encoder = BertModel.from_pretrained(MODEL_NAME)\n",
    "        if hidden_size is None:\n",
    "            hidden_size = self.bert_encoder.config.hidden_size\n",
    "        self.dropout = nn.Dropout(self.bert_encoder.config.hidden_dropout_prob)\n",
    "        self.classifier = nn.Linear(hidden_size * 3, 1)\n",
    "        self.ssmatch = Single_matchNet(self.bert_encoder.config)\n",
    "        self.fuse = Fuse_net(self.bert_encoder.config)\n",
    "        self.pooler = BertPooler(self.bert_encoder.config)\n",
    "\n",
    "        self.loss_fcn = nn.CrossEntropyLoss()\n",
    "\n",
    "    def forward(self, input_ids, token_type_ids, attention_mask, p_len, q_len, a_len, labels):\n",
    "        # flatten the inputs\n",
    "        flat_input_ids = input_ids.view(-1, input_ids.shape[-1])\n",
    "        flat_token_type_ids = token_type_ids.view(-1, token_type_ids.shape[-1])\n",
    "        flat_attention_mask = attention_mask.view(-1, attention_mask.shape[-1])\n",
    "        p_len = p_len.view(-1, p_len.shape[0] * p_len.shape[1]).squeeze()\n",
    "        q_len = q_len.view(-1, q_len.shape[0] * q_len.shape[1]).squeeze()\n",
    "        a_len = a_len.view(-1, a_len.shape[0] * a_len.shape[1]).squeeze()\n",
    "        \n",
    "        output = self.bert_encoder(input_ids=flat_input_ids, token_type_ids=flat_token_type_ids, \n",
    "                                   attention_mask=flat_attention_mask, return_dict=True,\n",
    "                                   encoder_hidden_states=True)\n",
    "        pooled_output = output[\"pooler_output\"]\n",
    "        sequence_output = output[\"last_hidden_state\"]\n",
    "\n",
    "        p_seq_output, q_seq_output, a_seq_output, p_q_seq_output, q_a_seq_output = separate_seq(sequence_output, p_len, q_len, a_len)\n",
    "\n",
    "        pa_output = self.ssmatch([p_seq_output, a_seq_output, a_len + 1])\n",
    "        ap_output = self.ssmatch([a_seq_output, p_seq_output, p_len + 1])\n",
    "        pq_output = self.ssmatch([p_seq_output, q_seq_output, q_len + 1])\n",
    "        qp_output = self.ssmatch([q_seq_output, p_seq_output, p_len + 1])\n",
    "        qa_output = self.ssmatch([q_seq_output, a_seq_output, a_len + 1])\n",
    "        aq_output = self.ssmatch([a_seq_output, q_seq_output, q_len + 1])\n",
    "\n",
    "        pa_output_pool, _ = pa_output.max(dim=1)\n",
    "        ap_output_pool, _ = ap_output.max(dim=1)\n",
    "        pq_output_pool, _ = pq_output.max(dim=1)\n",
    "        qp_output_pool, _ = qp_output.max(dim=1)\n",
    "        qa_output_pool, _ = qa_output.max(dim=1)\n",
    "        aq_output_pool, _ = aq_output.max(dim=1)\n",
    "\n",
    "        pa_fuse = self.fuse([pa_output_pool, ap_output_pool])\n",
    "        pq_fuse = self.fuse([pq_output_pool, qp_output_pool])\n",
    "        qa_fuse = self.fuse([qa_output_pool, aq_output_pool])\n",
    "\n",
    "        cat_pool = torch.cat((pa_fuse, pq_fuse, qa_fuse), dim=1)\n",
    "        output_pool = self.dropout(cat_pool)\n",
    "        logits = self.classifier(output_pool)\n",
    "        logits = logits.view(-1, NUM_CLASSES)\n",
    "\n",
    "        logits_copy = logits.clone().detach().cpu().numpy()\n",
    "        prediction = np.argmax(logits_copy, axis=1)\n",
    "\n",
    "        loss = self.loss_fcn(logits, labels)\n",
    "        return loss, prediction\n",
    "    \n",
    "    def loss(self, label, prediction):\n",
    "        return self.loss_fcn(prediction, label)\n"
   ]
  },
  {
   "cell_type": "markdown",
   "metadata": {},
   "source": [
    "**Define the training loop**"
   ]
  },
  {
   "cell_type": "code",
   "execution_count": 10,
   "metadata": {},
   "outputs": [],
   "source": [
    "def trainer(model, optimizer, train_loader, val_loader):\n",
    "    model.to(DEVICE)\n",
    "\n",
    "    training_loss = []\n",
    "    training_accuracy = []\n",
    "    validation_loss = []\n",
    "    validation_accuracy = []\n",
    "\n",
    "    for epoch in range(EPOCHS):\n",
    "        correct_predictions = 0\n",
    "        train_sample_count = 0\n",
    "\n",
    "        ''' training '''\n",
    "        model.train()\n",
    "        tic = time.time()\n",
    "        for i, batch in enumerate(tqdm(train_loader, desc='Training', ncols=100, leave=False)):\n",
    "            ids, tokens_batch, input_ids_batch, input_masks_batch, token_type_ids_batch, \\\n",
    "                p_len_batch, q_len_batch, a_len_batch, labels = send_to_device(*batch)\n",
    "\n",
    "            loss, prediction = model(input_ids_batch, token_type_ids_batch, input_masks_batch, \n",
    "                                p_len_batch, q_len_batch, a_len_batch, labels)\n",
    "            optimizer.zero_grad()\n",
    "            loss.backward()\n",
    "            optimizer.step()\n",
    "\n",
    "            correct_predictions += np.sum(prediction == labels)\n",
    "            training_loss.append(loss.item())\n",
    "            train_sample_count += len(input_ids_batch)\n",
    "        training_accuracy.append((epoch, correct_predictions / train_sample_count))\n",
    "\n",
    "        ''' validation '''\n",
    "        val_sample_count = 0\n",
    "        correct_predictions = 0\n",
    "        \n",
    "        model.eval()\n",
    "        for j, data in enumerate(tqdm(val_loader, desc='Validation', ncols=100, leave=False)):\n",
    "            ids, tokens_batch, input_ids_batch, input_masks_batch, token_type_ids_batch, \\\n",
    "                p_len_batch, q_len_batch, a_len_batch, labels = send_to_device(*data)\n",
    "\n",
    "            loss, prediction = model(input_ids_batch, token_type_ids_batch, input_masks_batch, \n",
    "                                     p_len_batch, q_len_batch, a_len_batch, labels)\n",
    "            \n",
    "            validation_loss.append(loss.item())\n",
    "            correct_predictions += np.sum(prediction == labels)\n",
    "            val_sample_count += len(input_ids_batch)\n",
    "        validation_accuracy.append((epoch, correct_predictions / val_sample_count))    \n",
    "\n",
    "        tqdm.write(f'Epoch: {epoch}, Training time: {time.time() - tic} s, Training loss: {np.mean(training_loss)}, Training accuracy: {sum(list(zip(*training_accuracy))[1])},' \\\n",
    "                   f' Validation loss: {np.mean(validation_loss)}, Validation accuracy: {sum(list(zip(*validation_accuracy))[1])}')\n",
    "\n",
    "    # save the trained models\n",
    "    model_checkpoint = dict()\n",
    "    model_checkpoint['model_state_dict'] = model.state_dict()\n",
    "    model_checkpoint['optimizer_state_dict'] = optimizer.state_dict()\n",
    "    model_checkpoint['training_loss'] = training_loss\n",
    "    model_checkpoint['training_accuracy'] = training_accuracy\n",
    "    model_checkpoint['validation_loss'] = validation_loss\n",
    "    model_checkpoint['validation_accuracy'] = validation_accuracy\n",
    "    torch.save(model_checkpoint, f'./save_data/model_checkpoint.pth')\n",
    "    \n",
    "    \n",
    "    return training_loss, training_accuracy, validation_loss, validation_accuracy"
   ]
  },
  {
   "cell_type": "markdown",
   "metadata": {},
   "source": [
    "# Main()"
   ]
  },
  {
   "cell_type": "code",
   "execution_count": 11,
   "metadata": {},
   "outputs": [],
   "source": [
    "tokenizer = BertTokenizer.from_pretrained(MODEL_NAME)"
   ]
  },
  {
   "cell_type": "code",
   "execution_count": 12,
   "metadata": {},
   "outputs": [],
   "source": [
    "train_dataset = Dataset(train, tokenizer, MAX_LEN)\n",
    "val_dataset = Dataset(val, tokenizer, MAX_LEN)\n",
    "test_dataset = Dataset(test, tokenizer, MAX_LEN)"
   ]
  },
  {
   "cell_type": "code",
   "execution_count": 13,
   "metadata": {},
   "outputs": [],
   "source": [
    "params_dataLoader = {'batch_size': TRAINING_BATCH_SIZE,\n",
    "                     'shuffle': True,\n",
    "                     'num_workers': NUM_WORKERS,\n",
    "                     'collate_fn': collate_fcn}\n",
    "train_dataset_loader = torch.utils.data.DataLoader(train_dataset, **params_dataLoader)\n",
    "\n",
    "params_dataLoader = {'batch_size': VAL_BATCH_SIZE,\n",
    "                     'shuffle': True,\n",
    "                     'num_workers': 0,\n",
    "                     'collate_fn': collate_fcn}\n",
    "val_dataset_loader = torch.utils.data.DataLoader(val_dataset, **params_dataLoader)"
   ]
  },
  {
   "cell_type": "code",
   "execution_count": 14,
   "metadata": {},
   "outputs": [],
   "source": [
    "model = BERT_multChoice().to(device)\n",
    "optimizer = optim.Adam(model.parameters(), lr=LR)"
   ]
  },
  {
   "cell_type": "code",
   "execution_count": 15,
   "metadata": {},
   "outputs": [
    {
     "name": "stderr",
     "output_type": "stream",
     "text": [
      "                                                                                                    \r"
     ]
    },
    {
     "name": "stdout",
     "output_type": "stream",
     "text": [
      "Epoch: 0, Training time: 4696.978709936142 s, Training loss: 1.111605717740986, Training accuracy: 0.0, Validation loss: 0.9847826768926515, Validation accuracy: 0.0\n"
     ]
    },
    {
     "name": "stderr",
     "output_type": "stream",
     "text": [
      "                                                                                                    \r"
     ]
    },
    {
     "name": "stdout",
     "output_type": "stream",
     "text": [
      "Epoch: 1, Training time: 5816.138954877853 s, Training loss: 0.9281462574904953, Training accuracy: 0.0, Validation loss: 0.9758754466494229, Validation accuracy: 0.0\n"
     ]
    },
    {
     "name": "stderr",
     "output_type": "stream",
     "text": [
      "                                                                                                    \r"
     ]
    },
    {
     "name": "stdout",
     "output_type": "stream",
     "text": [
      "Epoch: 2, Training time: 5732.757860898972 s, Training loss: 0.7630178899809377, Training accuracy: 0.0, Validation loss: 1.0286175329793101, Validation accuracy: 0.0\n"
     ]
    },
    {
     "name": "stderr",
     "output_type": "stream",
     "text": [
      "                                                                                                    \r"
     ]
    },
    {
     "name": "stdout",
     "output_type": "stream",
     "text": [
      "Epoch: 3, Training time: 6338.429451227188 s, Training loss: 0.629439925102733, Training accuracy: 0.0, Validation loss: 1.1336342243962854, Validation accuracy: 0.0\n"
     ]
    },
    {
     "name": "stderr",
     "output_type": "stream",
     "text": [
      "                                                                                                    \r"
     ]
    },
    {
     "name": "stdout",
     "output_type": "stream",
     "text": [
      "Epoch: 4, Training time: 6873.037012577057 s, Training loss: 0.5310221215220399, Training accuracy: 0.0, Validation loss: 1.2399078846633451, Validation accuracy: 0.0\n"
     ]
    },
    {
     "data": {
      "text/plain": [
       "(0.0, 1.0)"
      ]
     },
     "execution_count": 15,
     "metadata": {},
     "output_type": "execute_result"
    },
    {
     "data": {
      "image/png": "[encoded data removed]",
      "text/plain": [
       "<Figure size 1000x800 with 4 Axes>"
      ]
     },
     "metadata": {},
     "output_type": "display_data"
    }
   ],
   "source": [
    "load = all([os.path.exists(f'save_data/{f}') for f in ['model_checkpoint.pth', 'training_loss.json', 'training_accuracy.json',\n",
    "                                                       'validation_loss.json', 'validation_accuracy.json']])\n",
    "\n",
    "if load:\n",
    "    model_dir = 'save_data/model_checkpoint.pth'\n",
    "    model_checkpoint = torch.load(model_dir)\n",
    "    model.load_state_dict(model_checkpoint['model_state_dict'])\n",
    "\n",
    "    fname = os.path.join(f'./save_data/training_loss.json')\n",
    "    with open(fname, 'r') as f:\n",
    "        training_loss = json.load(f)\n",
    "    fname = os.path.join(f'./save_data/training_accuracy.json')\n",
    "    with open(fname, 'r') as f:\n",
    "        training_accuracy = json.load(f)\n",
    "    fname = os.path.join(f'./save_data/validation_loss.json')\n",
    "    with open(fname, 'r') as f:\n",
    "        validation_loss = json.load(f)\n",
    "    fname = os.path.join(f'./save_data/validation_accuracy.json')\n",
    "    with open(fname, 'r') as f:\n",
    "        validation_accuracy = json.load(f)\n",
    "else:\n",
    "    os.makedirs('save_data', exist_ok=True)\n",
    "    training_loss, training_accuracy, validation_loss, validation_accuracy = trainer(model, optimizer, train_dataset_loader, val_dataset_loader)\n",
    "\n",
    "    fname = os.path.join(f'./save_data/training_loss.json')\n",
    "    with open(fname, 'w') as f:\n",
    "        json.dump(training_loss, f)\n",
    "    fname = os.path.join(f'./save_data/training_accuracy.json')\n",
    "    with open(fname, 'w') as f:\n",
    "        json.dump(training_accuracy, f)\n",
    "    fname = os.path.join(f'./save_data/validation_loss.json')\n",
    "    with open(fname, 'w') as f:\n",
    "        json.dump(validation_loss, f)\n",
    "    fname = os.path.join(f'./save_data/validation_accuracy.json')\n",
    "    with open(fname, 'w') as f:\n",
    "        json.dump(validation_accuracy, f)\n",
    "\n",
    "_, ax = plt.subplots(2, 2, figsize=(10, 8))\n",
    "ax[0, 0].plot(training_loss, marker='.')\n",
    "ax[0, 0].set_title('Training Loss')\n",
    "ax[0, 1].plot(*zip(*training_accuracy))\n",
    "ax[0, 1].set_title('Training Accuracy')\n",
    "ax[1, 0].plot(validation_loss, marker='.')\n",
    "ax[1, 0].set_title('Validation Loss')\n",
    "ax[1, 1].plot(*zip(*validation_accuracy))\n",
    "ax[1, 1].set_title('Validation Accuracy')\n",
    "\n",
    "ax[0, 1].set_ylim([0, 1])\n",
    "ax[1, 1].set_ylim([0, 1])"
   ]
  },
  {
   "cell_type": "code",
   "execution_count": null,
   "metadata": {},
   "outputs": [],
   "source": []
  },
  {
   "cell_type": "code",
   "execution_count": null,
   "metadata": {},
   "outputs": [],
   "source": []
  },
  {
   "cell_type": "code",
   "execution_count": null,
   "metadata": {},
   "outputs": [],
   "source": []
  }
 ],
 "metadata": {
  "kernelspec": {
   "display_name": "nlp_hw1",
   "language": "python",
   "name": "python3"
  },
  "language_info": {
   "codemirror_mode": {
    "name": "ipython",
    "version": 3
   },
   "file_extension": ".py",
   "mimetype": "text/x-python",
   "name": "python",
   "nbconvert_exporter": "python",
   "pygments_lexer": "ipython3",
   "version": "3.9.0"
  }
 },
 "nbformat": 4,
 "nbformat_minor": 2
}
